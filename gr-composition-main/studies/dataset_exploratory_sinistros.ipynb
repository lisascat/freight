{
 "cells": [
  {
   "cell_type": "code",
   "execution_count": 1,
   "id": "d11c5667-1a86-4fd3-a3ad-a9c6cad21016",
   "metadata": {
    "tags": []
   },
   "outputs": [
    {
     "name": "stdout",
     "output_type": "stream",
     "text": [
      "Note: you may need to restart the kernel to use updated packages.\n"
     ]
    }
   ],
   "source": [
    "pip install unidecode --quiet"
   ]
  },
  {
   "cell_type": "code",
   "execution_count": 2,
   "id": "66b8a2d9-6b75-4fb0-8350-eb00eb67350a",
   "metadata": {
    "tags": []
   },
   "outputs": [
    {
     "name": "stderr",
     "output_type": "stream",
     "text": [
      "/home/ec2-user/anaconda3/envs/python3/lib/python3.10/site-packages/pandas/core/computation/expressions.py:21: UserWarning: Pandas requires version '2.8.0' or newer of 'numexpr' (version '2.7.3' currently installed).\n",
      "  from pandas.core.computation.check import NUMEXPR_INSTALLED\n"
     ]
    }
   ],
   "source": [
    "import pandas as pd\n",
    "import matplotlib.pyplot as plt\n",
    "from unidecode import unidecode\n",
    "import numpy as np\n",
    "import re"
   ]
  },
  {
   "cell_type": "markdown",
   "id": "0a6f4fbc-18e8-4e96-9bef-49775e33f781",
   "metadata": {},
   "source": [
    "### Utils"
   ]
  },
  {
   "cell_type": "code",
   "execution_count": 3,
   "id": "513a9adc-05ec-490d-8a4c-740a620ec469",
   "metadata": {
    "tags": []
   },
   "outputs": [],
   "source": [
    "def check_uf_cavalo_carreta(row, row1, row2, row3, row4):\n",
    "    non_null_ufs = [row[col] for col in [row1, row2, row3, row4] if pd.notnull(row[col])]\n",
    "\n",
    "    if len(non_null_ufs) == 1:\n",
    "        return None\n",
    "    elif all(x == non_null_ufs[0] for x in non_null_ufs):\n",
    "        return 'Igual'\n",
    "    else:\n",
    "        return 'Diferente'"
   ]
  },
  {
   "cell_type": "code",
   "execution_count": 4,
   "id": "025a342b-3463-420b-a713-b9da63b3064d",
   "metadata": {
    "tags": []
   },
   "outputs": [],
   "source": [
    "def extract_numbers(value):\n",
    "    if pd.isna(value) or isinstance(value, (int, float)):\n",
    "        return value\n",
    "    return ''.join(re.findall(r'\\d', str(value)))"
   ]
  },
  {
   "cell_type": "code",
   "execution_count": 5,
   "id": "ad684ad4-68d0-4d89-939b-9849dac4ea6d",
   "metadata": {
    "tags": []
   },
   "outputs": [],
   "source": [
    "def compare_four_columns(row, col1, col2, col3, col4):\n",
    "    values = [row[col] for col in [col1, col2, col3, col4] if pd.notnull(row[col])]\n",
    "\n",
    "    if len(values) == 0:\n",
    "        return np.nan\n",
    "\n",
    "    return all(x == values[0] for x in values)"
   ]
  },
  {
   "cell_type": "code",
   "execution_count": 6,
   "id": "f940f0c5-08bd-4c6a-801e-336a390fa519",
   "metadata": {},
   "outputs": [],
   "source": [
    "def count_cpf_cnpj(row, columns):\n",
    "    cpf_count = 0\n",
    "    cnpj_count = 0\n",
    "    for col in columns:\n",
    "        value = row[col]\n",
    "        if pd.notna(value):\n",
    "            if len(value) <= 11:\n",
    "                cpf_count += 1\n",
    "            else:\n",
    "                cnpj_count += 1\n",
    "    return pd.Series([cpf_count, cnpj_count])"
   ]
  },
  {
   "cell_type": "code",
   "execution_count": 7,
   "id": "f2007a40-07ad-44b7-8f3f-73e28e1b8606",
   "metadata": {
    "tags": []
   },
   "outputs": [],
   "source": [
    "def extract_numbers(s):\n",
    "    return ''.join(filter(str.isdigit, s))\n",
    "\n",
    "def check_cpfcnpj_equivalence(row):\n",
    "    total_plates = row['total_plates']\n",
    "    cpf_motorista = str(row['cpf_motorista'])\n",
    "\n",
    "    for i in range(1, total_plates + 1):\n",
    "        cpfcnpj_rntrc_i = str(row[f'cpfcnpj_rntrc{i}'])\n",
    "        if cpfcnpj_rntrc_i == cpf_motorista:\n",
    "            continue  \n",
    "\n",
    "        for j in range(1, total_plates + 1):\n",
    "            cpfcnpj_vehicle_j = str(row[f'cpfcnpj_vehicle{j}'])\n",
    "            if cpfcnpj_vehicle_j == cpf_motorista:\n",
    "                continue \n",
    "\n",
    "            if cpfcnpj_rntrc_i in cpfcnpj_vehicle_j or cpfcnpj_vehicle_j in cpfcnpj_rntrc_i:\n",
    "                return True\n",
    "    return False"
   ]
  },
  {
   "cell_type": "code",
   "execution_count": 8,
   "id": "41db00a2-bcbd-44bf-9e26-b695c39171dd",
   "metadata": {
    "tags": []
   },
   "outputs": [],
   "source": [
    "def check_owner_for_all_rntrc(row):\n",
    "    vehicle_cols = [col for col in row.index if 'cpfcnpj_vehicle' in col]\n",
    "    rntrc_cols = [col for col in row.index if 'cpfcnpj_rntrc' in col]\n",
    "\n",
    "    cpf_motorista = str(row['cpf_motorista'])\n",
    "    rntrc_values = [str(row[col]) for col in rntrc_cols if pd.notnull(row[col]) and str(row[col]) != cpf_motorista]\n",
    "\n",
    "    for vehicle_col in vehicle_cols:\n",
    "        if pd.notnull(row[vehicle_col]):\n",
    "            vehicle_numeric = str(row[vehicle_col])\n",
    "            if vehicle_numeric == cpf_motorista:\n",
    "                continue  # Ignora se o CPF/CNPJ do veículo for igual ao do motorista\n",
    "\n",
    "            if all(val in vehicle_numeric for val in rntrc_values):\n",
    "                return True\n",
    "\n",
    "    return False"
   ]
  },
  {
   "cell_type": "code",
   "execution_count": 9,
   "id": "2cd0e442-ba6d-4198-8f68-458a0b4ac14d",
   "metadata": {},
   "outputs": [],
   "source": [
    "def check_single_owner_for_all(row):\n",
    "    vehicle_cols = [col for col in row.index if 'cpfcnpj_vehicle' in col]\n",
    "    rntrc_cols = [col for col in row.index if 'cpfcnpj_rntrc' in col]\n",
    "    \n",
    "    cpf_motorista = row['cpf_motorista']\n",
    "    vehicle_values = [row[col] for col in vehicle_cols if pd.notnull(row[col]) and row[col] != cpf_motorista]\n",
    "    rntrc_values = [row[col] for col in rntrc_cols if pd.notnull(row[col]) and row[col] != cpf_motorista]\n",
    "    \n",
    "    if len(set(vehicle_values)) != 1:\n",
    "        return False\n",
    "    \n",
    "    if len(set(rntrc_values)) != 1:\n",
    "        return False\n",
    "    \n",
    "    if not all(all(rntrc_val in vehicle_val for vehicle_val in vehicle_values) for rntrc_val in rntrc_values):\n",
    "        return False\n",
    "\n",
    "    return True"
   ]
  },
  {
   "cell_type": "code",
   "execution_count": 10,
   "id": "e0637819-9e3e-49e9-a383-b764fa3e9a27",
   "metadata": {
    "tags": []
   },
   "outputs": [],
   "source": [
    "dtype_dict = {\n",
    "    'cpf_motorista': str,\n",
    "    'cpfcnpj_rntrc1': str,\n",
    "    'cpfcnpj_vehicle1': str,\n",
    "    'cpfcnpj_rntrc2': str,\n",
    "    'cpfcnpj_vehicle2': str,\n",
    "    'cpfcnpj_rntrc3': str,\n",
    "    'cpfcnpj_vehicle3': str,\n",
    "    'cpfcnpj_rntrc4': str,\n",
    "    'cpfcnpj_vehicle4': str,\n",
    "}"
   ]
  },
  {
   "cell_type": "markdown",
   "id": "3af27977-890d-4237-919b-42b7191e8aa7",
   "metadata": {},
   "source": [
    "### Read data"
   ]
  },
  {
   "cell_type": "code",
   "execution_count": 11,
   "id": "56ad87bd-1fd8-4e65-9245-d799752b5c2d",
   "metadata": {
    "tags": []
   },
   "outputs": [],
   "source": [
    "df_sinistros = pd.read_excel('../data/dados_sinistro.xlsx', dtype=dtype_dict).rename(columns={'uf3':'uf_placa3',\n",
    "                                                      'uf4':'uf_placa4',\n",
    "                                                      'mdelo_carreta2':'modelo_carreta2',\n",
    "                                                      'mdelo_carreta3':'modelo_carreta3',\n",
    "                                                                                 })"
   ]
  },
  {
   "cell_type": "markdown",
   "id": "c7627d7a-cc5c-4ab6-9c76-9dc750c19f0e",
   "metadata": {},
   "source": [
    "### Análise descritiva"
   ]
  },
  {
   "cell_type": "code",
   "execution_count": 12,
   "id": "ef91188b-79aa-4ba2-8b26-8cbf823a44d4",
   "metadata": {
    "tags": []
   },
   "outputs": [
    {
     "data": {
      "text/plain": [
       "total_plates\n",
       "2    97\n",
       "3    20\n",
       "1     6\n",
       "4     2\n",
       "Name: count, dtype: int64"
      ]
     },
     "execution_count": 12,
     "metadata": {},
     "output_type": "execute_result"
    }
   ],
   "source": [
    "df_sinistros.total_plates.value_counts()"
   ]
  },
  {
   "cell_type": "code",
   "execution_count": 13,
   "id": "3f398ff0-814b-451b-b699-165a84935386",
   "metadata": {
    "tags": []
   },
   "outputs": [
    {
     "data": {
      "text/plain": [
       "total_plates\n",
       "2    0.776\n",
       "3    0.160\n",
       "1    0.048\n",
       "4    0.016\n",
       "Name: count, dtype: float64"
      ]
     },
     "execution_count": 13,
     "metadata": {},
     "output_type": "execute_result"
    }
   ],
   "source": [
    "df_sinistros.total_plates.value_counts()/df_sinistros.total_plates.value_counts().sum()"
   ]
  },
  {
   "cell_type": "code",
   "execution_count": 14,
   "id": "81b8e000-8eb2-4274-9c1d-5710f0025ac5",
   "metadata": {
    "tags": []
   },
   "outputs": [],
   "source": [
    "df_sinistros['comp_ufs_plates'] = df_sinistros.apply(check_uf_cavalo_carreta, axis=1, args=('uf_placa1',\n",
    "                                                                        'uf_placa2',\n",
    "                                                                        'uf_placa3',\n",
    "                                                                        'uf_placa4'))"
   ]
  },
  {
   "cell_type": "code",
   "execution_count": 15,
   "id": "c88adbed-3ae6-44ee-9d3e-7c7e6daf1ef6",
   "metadata": {
    "tags": []
   },
   "outputs": [
    {
     "data": {
      "text/plain": [
       "comp_ufs_plates\n",
       "Igual        0.820513\n",
       "Diferente    0.179487\n",
       "Name: count, dtype: float64"
      ]
     },
     "execution_count": 15,
     "metadata": {},
     "output_type": "execute_result"
    }
   ],
   "source": [
    "df_sinistros['comp_ufs_plates'].value_counts()/df_sinistros['comp_ufs_plates'].value_counts().sum()"
   ]
  },
  {
   "cell_type": "code",
   "execution_count": 16,
   "id": "76f9fe32-40f0-45d8-bedc-a2f015ed40b4",
   "metadata": {
    "tags": []
   },
   "outputs": [],
   "source": [
    "df_sinistros['comp_ufs_rntrc'] = df_sinistros.apply(check_uf_cavalo_carreta, axis=1, args=('uf_rntrc1',\n",
    "                                                                        'uf_rntrc2',\n",
    "                                                                        'uf_rntrc3',\n",
    "                                                                        'uf_rntrc4'))"
   ]
  },
  {
   "cell_type": "code",
   "execution_count": 17,
   "id": "851ed60d-d816-46ea-b654-691eda5b3a5e",
   "metadata": {
    "tags": []
   },
   "outputs": [
    {
     "data": {
      "text/plain": [
       "comp_ufs_rntrc\n",
       "Igual        0.966102\n",
       "Diferente    0.033898\n",
       "Name: count, dtype: float64"
      ]
     },
     "execution_count": 17,
     "metadata": {},
     "output_type": "execute_result"
    }
   ],
   "source": [
    "df_sinistros['comp_ufs_rntrc'].value_counts()/df_sinistros['comp_ufs_rntrc'].value_counts().sum()"
   ]
  },
  {
   "cell_type": "code",
   "execution_count": 18,
   "id": "67a18173-ec1b-443c-99ae-e2eaf148b233",
   "metadata": {
    "tags": []
   },
   "outputs": [],
   "source": [
    "pairs = [\n",
    "    (\"uf_placa1\", \"uf_rntrc1\"),\n",
    "    (\"uf_placa2\", \"uf_rntrc2\"),\n",
    "    (\"uf_placa3\", \"uf_rntrc3\"),\n",
    "    (\"uf_placa4\", \"uf_rntrc4\")\n",
    "]\n",
    "\n",
    "for placa, rntrc in pairs:\n",
    "    df_sinistros[f'comparacao_{placa.split(\"_\")[1]}'] = df_sinistros.apply(\n",
    "        lambda row: True if row[placa] == row[rntrc] else (False if pd.notnull(row[placa]) and pd.notnull(row[rntrc]) else np.nan), \n",
    "        axis=1\n",
    "    )"
   ]
  },
  {
   "cell_type": "code",
   "execution_count": 19,
   "id": "fa507812-483a-429f-b61b-167254994141",
   "metadata": {
    "tags": []
   },
   "outputs": [
    {
     "data": {
      "text/html": [
       "<div>\n",
       "<style scoped>\n",
       "    .dataframe tbody tr th:only-of-type {\n",
       "        vertical-align: middle;\n",
       "    }\n",
       "\n",
       "    .dataframe tbody tr th {\n",
       "        vertical-align: top;\n",
       "    }\n",
       "\n",
       "    .dataframe thead th {\n",
       "        text-align: right;\n",
       "    }\n",
       "</style>\n",
       "<table border=\"1\" class=\"dataframe\">\n",
       "  <thead>\n",
       "    <tr style=\"text-align: right;\">\n",
       "      <th></th>\n",
       "      <th>uf_placa1</th>\n",
       "      <th>uf_rntrc1</th>\n",
       "      <th>comparacao_placa1</th>\n",
       "      <th>uf_placa2</th>\n",
       "      <th>uf_rntrc2</th>\n",
       "      <th>comparacao_placa2</th>\n",
       "      <th>uf_placa3</th>\n",
       "      <th>uf_rntrc3</th>\n",
       "      <th>comparacao_placa3</th>\n",
       "      <th>uf_placa4</th>\n",
       "      <th>uf_rntrc4</th>\n",
       "      <th>comparacao_placa4</th>\n",
       "    </tr>\n",
       "  </thead>\n",
       "  <tbody>\n",
       "    <tr>\n",
       "      <th>0</th>\n",
       "      <td>DF</td>\n",
       "      <td>MT</td>\n",
       "      <td>False</td>\n",
       "      <td>SP</td>\n",
       "      <td>MT</td>\n",
       "      <td>False</td>\n",
       "      <td>SP</td>\n",
       "      <td>MT</td>\n",
       "      <td>False</td>\n",
       "      <td>NaN</td>\n",
       "      <td>NaN</td>\n",
       "      <td>NaN</td>\n",
       "    </tr>\n",
       "    <tr>\n",
       "      <th>1</th>\n",
       "      <td>PR</td>\n",
       "      <td>MT</td>\n",
       "      <td>False</td>\n",
       "      <td>SC</td>\n",
       "      <td>MT</td>\n",
       "      <td>False</td>\n",
       "      <td>SC</td>\n",
       "      <td>MT</td>\n",
       "      <td>False</td>\n",
       "      <td>NaN</td>\n",
       "      <td>NaN</td>\n",
       "      <td>NaN</td>\n",
       "    </tr>\n",
       "    <tr>\n",
       "      <th>2</th>\n",
       "      <td>MS</td>\n",
       "      <td>MS</td>\n",
       "      <td>True</td>\n",
       "      <td>MS</td>\n",
       "      <td>MS</td>\n",
       "      <td>True</td>\n",
       "      <td>MS</td>\n",
       "      <td>MS</td>\n",
       "      <td>True</td>\n",
       "      <td>NaN</td>\n",
       "      <td>NaN</td>\n",
       "      <td>NaN</td>\n",
       "    </tr>\n",
       "    <tr>\n",
       "      <th>3</th>\n",
       "      <td>RJ</td>\n",
       "      <td>PR</td>\n",
       "      <td>False</td>\n",
       "      <td>RJ</td>\n",
       "      <td>PR</td>\n",
       "      <td>False</td>\n",
       "      <td>NaN</td>\n",
       "      <td>NaN</td>\n",
       "      <td>NaN</td>\n",
       "      <td>NaN</td>\n",
       "      <td>NaN</td>\n",
       "      <td>NaN</td>\n",
       "    </tr>\n",
       "    <tr>\n",
       "      <th>4</th>\n",
       "      <td>SP</td>\n",
       "      <td>SP</td>\n",
       "      <td>True</td>\n",
       "      <td>SP</td>\n",
       "      <td>SP</td>\n",
       "      <td>True</td>\n",
       "      <td>NaN</td>\n",
       "      <td>NaN</td>\n",
       "      <td>NaN</td>\n",
       "      <td>NaN</td>\n",
       "      <td>NaN</td>\n",
       "      <td>NaN</td>\n",
       "    </tr>\n",
       "  </tbody>\n",
       "</table>\n",
       "</div>"
      ],
      "text/plain": [
       "  uf_placa1 uf_rntrc1  comparacao_placa1 uf_placa2 uf_rntrc2  \\\n",
       "0        DF        MT              False        SP        MT   \n",
       "1        PR        MT              False        SC        MT   \n",
       "2        MS        MS               True        MS        MS   \n",
       "3        RJ        PR              False        RJ        PR   \n",
       "4        SP        SP               True        SP        SP   \n",
       "\n",
       "  comparacao_placa2 uf_placa3 uf_rntrc3 comparacao_placa3 uf_placa4 uf_rntrc4  \\\n",
       "0             False        SP        MT             False       NaN       NaN   \n",
       "1             False        SC        MT             False       NaN       NaN   \n",
       "2              True        MS        MS              True       NaN       NaN   \n",
       "3             False       NaN       NaN               NaN       NaN       NaN   \n",
       "4              True       NaN       NaN               NaN       NaN       NaN   \n",
       "\n",
       "  comparacao_placa4  \n",
       "0               NaN  \n",
       "1               NaN  \n",
       "2               NaN  \n",
       "3               NaN  \n",
       "4               NaN  "
      ]
     },
     "execution_count": 19,
     "metadata": {},
     "output_type": "execute_result"
    }
   ],
   "source": [
    "df_sinistros[['uf_placa1', 'uf_rntrc1', 'comparacao_placa1', 'uf_placa2', 'uf_rntrc2', 'comparacao_placa2', 'uf_placa3', 'uf_rntrc3', 'comparacao_placa3', 'uf_placa4', 'uf_rntrc4', 'comparacao_placa4']].head()"
   ]
  },
  {
   "cell_type": "code",
   "execution_count": 20,
   "id": "ea5dc4cb-2763-4dab-9bc1-d0a5d33a9398",
   "metadata": {
    "tags": []
   },
   "outputs": [],
   "source": [
    "comparacao_cols = ['comparacao_placa1', 'comparacao_placa2', 'comparacao_placa3', 'comparacao_placa4']\n",
    "count_values = df_sinistros[comparacao_cols].apply(lambda col: col[col != 'nulo'].value_counts()).fillna(0)"
   ]
  },
  {
   "cell_type": "code",
   "execution_count": 21,
   "id": "9537036f-3eee-496f-98de-a02923ca4716",
   "metadata": {
    "tags": []
   },
   "outputs": [
    {
     "data": {
      "text/html": [
       "<div>\n",
       "<style scoped>\n",
       "    .dataframe tbody tr th:only-of-type {\n",
       "        vertical-align: middle;\n",
       "    }\n",
       "\n",
       "    .dataframe tbody tr th {\n",
       "        vertical-align: top;\n",
       "    }\n",
       "\n",
       "    .dataframe thead th {\n",
       "        text-align: right;\n",
       "    }\n",
       "</style>\n",
       "<table border=\"1\" class=\"dataframe\">\n",
       "  <thead>\n",
       "    <tr style=\"text-align: right;\">\n",
       "      <th></th>\n",
       "      <th>comparacao_placa1</th>\n",
       "      <th>comparacao_placa2</th>\n",
       "      <th>comparacao_placa3</th>\n",
       "      <th>comparacao_placa4</th>\n",
       "    </tr>\n",
       "  </thead>\n",
       "  <tbody>\n",
       "    <tr>\n",
       "      <th>False</th>\n",
       "      <td>42</td>\n",
       "      <td>38</td>\n",
       "      <td>12</td>\n",
       "      <td>1</td>\n",
       "    </tr>\n",
       "    <tr>\n",
       "      <th>True</th>\n",
       "      <td>83</td>\n",
       "      <td>79</td>\n",
       "      <td>9</td>\n",
       "      <td>1</td>\n",
       "    </tr>\n",
       "  </tbody>\n",
       "</table>\n",
       "</div>"
      ],
      "text/plain": [
       "       comparacao_placa1  comparacao_placa2  comparacao_placa3  \\\n",
       "False                 42                 38                 12   \n",
       "True                  83                 79                  9   \n",
       "\n",
       "       comparacao_placa4  \n",
       "False                  1  \n",
       "True                   1  "
      ]
     },
     "execution_count": 21,
     "metadata": {},
     "output_type": "execute_result"
    }
   ],
   "source": [
    "count_values"
   ]
  },
  {
   "cell_type": "code",
   "execution_count": 22,
   "id": "8d753c74-8fc2-4b27-bea4-9a722bff00ef",
   "metadata": {
    "tags": []
   },
   "outputs": [
    {
     "data": {
      "text/plain": [
       "False    0.350943\n",
       "True     0.649057\n",
       "dtype: float64"
      ]
     },
     "execution_count": 22,
     "metadata": {},
     "output_type": "execute_result"
    }
   ],
   "source": [
    "count_values.sum(axis=1)/count_values.sum(axis=1).sum()"
   ]
  },
  {
   "cell_type": "code",
   "execution_count": 23,
   "id": "c0b4b4ec-e54f-408f-91aa-90bc12b871bb",
   "metadata": {
    "tags": []
   },
   "outputs": [],
   "source": [
    "df_sinistros['comparacao_ufs_placas'] = df_sinistros.apply(lambda row: compare_four_columns(row, 'uf_placa1', 'uf_placa2', 'uf_placa3', 'uf_placa4'), axis=1)"
   ]
  },
  {
   "cell_type": "code",
   "execution_count": 24,
   "id": "ee394f3e-86bb-453b-8159-5d857c02c8c8",
   "metadata": {
    "tags": []
   },
   "outputs": [],
   "source": [
    "df_sinistros['comparacao_ufs_rntrcs'] = df_sinistros.apply(lambda row: compare_four_columns(row, 'uf_rntrc1', 'uf_rntrc2', 'uf_rntrc3', 'uf_rntrc4'), axis=1)"
   ]
  },
  {
   "cell_type": "code",
   "execution_count": 25,
   "id": "f1fbcedf-cd96-46c9-bc46-4a503465ea72",
   "metadata": {
    "tags": []
   },
   "outputs": [
    {
     "data": {
      "text/html": [
       "<div>\n",
       "<style scoped>\n",
       "    .dataframe tbody tr th:only-of-type {\n",
       "        vertical-align: middle;\n",
       "    }\n",
       "\n",
       "    .dataframe tbody tr th {\n",
       "        vertical-align: top;\n",
       "    }\n",
       "\n",
       "    .dataframe thead th {\n",
       "        text-align: right;\n",
       "    }\n",
       "</style>\n",
       "<table border=\"1\" class=\"dataframe\">\n",
       "  <thead>\n",
       "    <tr style=\"text-align: right;\">\n",
       "      <th></th>\n",
       "      <th>uf_placa1</th>\n",
       "      <th>uf_placa2</th>\n",
       "      <th>uf_placa3</th>\n",
       "      <th>uf_placa4</th>\n",
       "      <th>comparacao_ufs_placas</th>\n",
       "    </tr>\n",
       "  </thead>\n",
       "  <tbody>\n",
       "    <tr>\n",
       "      <th>0</th>\n",
       "      <td>DF</td>\n",
       "      <td>SP</td>\n",
       "      <td>SP</td>\n",
       "      <td>NaN</td>\n",
       "      <td>False</td>\n",
       "    </tr>\n",
       "    <tr>\n",
       "      <th>1</th>\n",
       "      <td>PR</td>\n",
       "      <td>SC</td>\n",
       "      <td>SC</td>\n",
       "      <td>NaN</td>\n",
       "      <td>False</td>\n",
       "    </tr>\n",
       "    <tr>\n",
       "      <th>2</th>\n",
       "      <td>MS</td>\n",
       "      <td>MS</td>\n",
       "      <td>MS</td>\n",
       "      <td>NaN</td>\n",
       "      <td>True</td>\n",
       "    </tr>\n",
       "    <tr>\n",
       "      <th>3</th>\n",
       "      <td>RJ</td>\n",
       "      <td>RJ</td>\n",
       "      <td>NaN</td>\n",
       "      <td>NaN</td>\n",
       "      <td>True</td>\n",
       "    </tr>\n",
       "    <tr>\n",
       "      <th>4</th>\n",
       "      <td>SP</td>\n",
       "      <td>SP</td>\n",
       "      <td>NaN</td>\n",
       "      <td>NaN</td>\n",
       "      <td>True</td>\n",
       "    </tr>\n",
       "    <tr>\n",
       "      <th>...</th>\n",
       "      <td>...</td>\n",
       "      <td>...</td>\n",
       "      <td>...</td>\n",
       "      <td>...</td>\n",
       "      <td>...</td>\n",
       "    </tr>\n",
       "    <tr>\n",
       "      <th>120</th>\n",
       "      <td>MT</td>\n",
       "      <td>MT</td>\n",
       "      <td>MT</td>\n",
       "      <td>MT</td>\n",
       "      <td>True</td>\n",
       "    </tr>\n",
       "    <tr>\n",
       "      <th>121</th>\n",
       "      <td>MG</td>\n",
       "      <td>SP</td>\n",
       "      <td>NaN</td>\n",
       "      <td>NaN</td>\n",
       "      <td>False</td>\n",
       "    </tr>\n",
       "    <tr>\n",
       "      <th>122</th>\n",
       "      <td>CE</td>\n",
       "      <td>SP</td>\n",
       "      <td>NaN</td>\n",
       "      <td>NaN</td>\n",
       "      <td>False</td>\n",
       "    </tr>\n",
       "    <tr>\n",
       "      <th>123</th>\n",
       "      <td>RS</td>\n",
       "      <td>RS</td>\n",
       "      <td>NaN</td>\n",
       "      <td>NaN</td>\n",
       "      <td>True</td>\n",
       "    </tr>\n",
       "    <tr>\n",
       "      <th>124</th>\n",
       "      <td>RS</td>\n",
       "      <td>PR</td>\n",
       "      <td>NaN</td>\n",
       "      <td>NaN</td>\n",
       "      <td>False</td>\n",
       "    </tr>\n",
       "  </tbody>\n",
       "</table>\n",
       "<p>125 rows × 5 columns</p>\n",
       "</div>"
      ],
      "text/plain": [
       "    uf_placa1 uf_placa2 uf_placa3 uf_placa4  comparacao_ufs_placas\n",
       "0          DF        SP        SP       NaN                  False\n",
       "1          PR        SC        SC       NaN                  False\n",
       "2          MS        MS        MS       NaN                   True\n",
       "3          RJ        RJ       NaN       NaN                   True\n",
       "4          SP        SP       NaN       NaN                   True\n",
       "..        ...       ...       ...       ...                    ...\n",
       "120        MT        MT        MT        MT                   True\n",
       "121        MG        SP       NaN       NaN                  False\n",
       "122        CE        SP       NaN       NaN                  False\n",
       "123        RS        RS       NaN       NaN                   True\n",
       "124        RS        PR       NaN       NaN                  False\n",
       "\n",
       "[125 rows x 5 columns]"
      ]
     },
     "execution_count": 25,
     "metadata": {},
     "output_type": "execute_result"
    }
   ],
   "source": [
    "df_sinistros[[\"uf_placa1\", \"uf_placa2\", \"uf_placa3\", \"uf_placa4\", \"comparacao_ufs_placas\"]]"
   ]
  },
  {
   "cell_type": "code",
   "execution_count": 26,
   "id": "658f3bb0-ce98-4edd-9fa7-665ae347aa3b",
   "metadata": {
    "tags": []
   },
   "outputs": [
    {
     "data": {
      "text/html": [
       "<div>\n",
       "<style scoped>\n",
       "    .dataframe tbody tr th:only-of-type {\n",
       "        vertical-align: middle;\n",
       "    }\n",
       "\n",
       "    .dataframe tbody tr th {\n",
       "        vertical-align: top;\n",
       "    }\n",
       "\n",
       "    .dataframe thead th {\n",
       "        text-align: right;\n",
       "    }\n",
       "</style>\n",
       "<table border=\"1\" class=\"dataframe\">\n",
       "  <thead>\n",
       "    <tr style=\"text-align: right;\">\n",
       "      <th></th>\n",
       "      <th>uf_rntrc1</th>\n",
       "      <th>uf_rntrc2</th>\n",
       "      <th>uf_rntrc3</th>\n",
       "      <th>uf_rntrc4</th>\n",
       "      <th>comparacao_ufs_rntrcs</th>\n",
       "    </tr>\n",
       "  </thead>\n",
       "  <tbody>\n",
       "    <tr>\n",
       "      <th>0</th>\n",
       "      <td>MT</td>\n",
       "      <td>MT</td>\n",
       "      <td>MT</td>\n",
       "      <td>NaN</td>\n",
       "      <td>True</td>\n",
       "    </tr>\n",
       "    <tr>\n",
       "      <th>1</th>\n",
       "      <td>MT</td>\n",
       "      <td>MT</td>\n",
       "      <td>MT</td>\n",
       "      <td>NaN</td>\n",
       "      <td>True</td>\n",
       "    </tr>\n",
       "    <tr>\n",
       "      <th>2</th>\n",
       "      <td>MS</td>\n",
       "      <td>MS</td>\n",
       "      <td>MS</td>\n",
       "      <td>NaN</td>\n",
       "      <td>True</td>\n",
       "    </tr>\n",
       "    <tr>\n",
       "      <th>3</th>\n",
       "      <td>PR</td>\n",
       "      <td>PR</td>\n",
       "      <td>NaN</td>\n",
       "      <td>NaN</td>\n",
       "      <td>True</td>\n",
       "    </tr>\n",
       "    <tr>\n",
       "      <th>4</th>\n",
       "      <td>SP</td>\n",
       "      <td>SP</td>\n",
       "      <td>NaN</td>\n",
       "      <td>NaN</td>\n",
       "      <td>True</td>\n",
       "    </tr>\n",
       "    <tr>\n",
       "      <th>...</th>\n",
       "      <td>...</td>\n",
       "      <td>...</td>\n",
       "      <td>...</td>\n",
       "      <td>...</td>\n",
       "      <td>...</td>\n",
       "    </tr>\n",
       "    <tr>\n",
       "      <th>120</th>\n",
       "      <td>RO</td>\n",
       "      <td>RO</td>\n",
       "      <td>RO</td>\n",
       "      <td>RO</td>\n",
       "      <td>True</td>\n",
       "    </tr>\n",
       "    <tr>\n",
       "      <th>121</th>\n",
       "      <td>MG</td>\n",
       "      <td>MG</td>\n",
       "      <td>NaN</td>\n",
       "      <td>NaN</td>\n",
       "      <td>True</td>\n",
       "    </tr>\n",
       "    <tr>\n",
       "      <th>122</th>\n",
       "      <td>CE</td>\n",
       "      <td>CE</td>\n",
       "      <td>NaN</td>\n",
       "      <td>NaN</td>\n",
       "      <td>True</td>\n",
       "    </tr>\n",
       "    <tr>\n",
       "      <th>123</th>\n",
       "      <td>BA</td>\n",
       "      <td>BA</td>\n",
       "      <td>NaN</td>\n",
       "      <td>NaN</td>\n",
       "      <td>True</td>\n",
       "    </tr>\n",
       "    <tr>\n",
       "      <th>124</th>\n",
       "      <td>PR</td>\n",
       "      <td>PR</td>\n",
       "      <td>PR</td>\n",
       "      <td>NaN</td>\n",
       "      <td>True</td>\n",
       "    </tr>\n",
       "  </tbody>\n",
       "</table>\n",
       "<p>125 rows × 5 columns</p>\n",
       "</div>"
      ],
      "text/plain": [
       "    uf_rntrc1 uf_rntrc2 uf_rntrc3 uf_rntrc4  comparacao_ufs_rntrcs\n",
       "0          MT        MT        MT       NaN                   True\n",
       "1          MT        MT        MT       NaN                   True\n",
       "2          MS        MS        MS       NaN                   True\n",
       "3          PR        PR       NaN       NaN                   True\n",
       "4          SP        SP       NaN       NaN                   True\n",
       "..        ...       ...       ...       ...                    ...\n",
       "120        RO        RO        RO        RO                   True\n",
       "121        MG        MG       NaN       NaN                   True\n",
       "122        CE        CE       NaN       NaN                   True\n",
       "123        BA        BA       NaN       NaN                   True\n",
       "124        PR        PR        PR       NaN                   True\n",
       "\n",
       "[125 rows x 5 columns]"
      ]
     },
     "execution_count": 26,
     "metadata": {},
     "output_type": "execute_result"
    }
   ],
   "source": [
    "df_sinistros[['uf_rntrc1', 'uf_rntrc2', 'uf_rntrc3', 'uf_rntrc4', 'comparacao_ufs_rntrcs']]"
   ]
  },
  {
   "cell_type": "code",
   "execution_count": 27,
   "id": "947eb1d0-1637-45b3-8287-382b2b569813",
   "metadata": {
    "tags": []
   },
   "outputs": [],
   "source": [
    "vehicles_cols = ['cpfcnpj_vehicle1', 'cpfcnpj_vehicle2', 'cpfcnpj_vehicle3', 'cpfcnpj_vehicle4']"
   ]
  },
  {
   "cell_type": "code",
   "execution_count": 28,
   "id": "739c6515-6d3e-4b92-86df-896673477376",
   "metadata": {
    "tags": []
   },
   "outputs": [],
   "source": [
    "rntrc_cols = ['cpfcnpj_rntrc1', 'cpfcnpj_rntrc2', 'cpfcnpj_rntrc3', 'cpfcnpj_rntrc4']"
   ]
  },
  {
   "cell_type": "code",
   "execution_count": 29,
   "id": "15d2dd17-d1ba-431b-82a4-3f72741cf820",
   "metadata": {
    "tags": []
   },
   "outputs": [],
   "source": [
    "df_sinistros[['total_vehicle_cpfs', 'total_vehicles_cnpj']] = df_sinistros.apply(count_cpf_cnpj, axis=1, columns=vehicles_cols)"
   ]
  },
  {
   "cell_type": "code",
   "execution_count": 30,
   "id": "2f89e7c7-b616-4d42-8ce6-6ce8da401589",
   "metadata": {
    "tags": []
   },
   "outputs": [],
   "source": [
    "df_sinistros[['total_rntrc_cpfs', 'total_rntrc_cnpj']] = df_sinistros.apply(count_cpf_cnpj, axis=1, columns=rntrc_cols)"
   ]
  },
  {
   "cell_type": "code",
   "execution_count": 31,
   "id": "61fbeb0d-d969-4181-bc4c-810a18dc6a44",
   "metadata": {
    "tags": []
   },
   "outputs": [
    {
     "data": {
      "image/png": "[encoded data removed]",
      "text/plain": [
       "<Figure size 1200x600 with 1 Axes>"
      ]
     },
     "metadata": {},
     "output_type": "display_data"
    }
   ],
   "source": [
    "df_sinistros['data_sinistro'] = pd.to_datetime(df_sinistros['data_sinistro'])\n",
    "sinistros_por_data = df_sinistros['data_sinistro'].value_counts().sort_index()\n",
    "\n",
    "date_range = pd.date_range(start=sinistros_por_data.index.min(), end=sinistros_por_data.index.max())\n",
    "\n",
    "sinistros_por_data = sinistros_por_data.reindex(date_range, fill_value=0)\n",
    "\n",
    "sinistros_por_data.plot(figsize=(12,6))\n",
    "plt.title('Quantidade de Sinistros por Data')\n",
    "plt.xlabel('Data')\n",
    "plt.ylabel('Quantidade de Sinistros')\n",
    "plt.grid(True)\n",
    "plt.show()"
   ]
  },
  {
   "cell_type": "code",
   "execution_count": 32,
   "id": "d38e9de1-47dc-4730-8454-a1b62df29df3",
   "metadata": {
    "tags": []
   },
   "outputs": [
    {
     "name": "stdout",
     "output_type": "stream",
     "text": [
      "Motoristas que aparecem mais de uma vez:\n",
      "Series([], Name: count, dtype: int64)\n"
     ]
    }
   ],
   "source": [
    "# Checar se um motorista aparece mais de uma vez\n",
    "motoristas_duplicados = df_sinistros['motorista'].value_counts()\n",
    "print(\"Motoristas que aparecem mais de uma vez:\")\n",
    "print(motoristas_duplicados[motoristas_duplicados > 1])"
   ]
  },
  {
   "cell_type": "code",
   "execution_count": 33,
   "id": "e9661d35-0daf-4f83-8017-4efcdd245841",
   "metadata": {
    "tags": []
   },
   "outputs": [
    {
     "name": "stdout",
     "output_type": "stream",
     "text": [
      "Placas que aparecem mais de uma vez:\n",
      "Series([], Name: count, dtype: int64)\n"
     ]
    }
   ],
   "source": [
    "# Checar se alguma placa aparece mais de uma vez\n",
    "placas = pd.concat([df_sinistros['placa1'], df_sinistros['placa2'], df_sinistros['placa3'], df_sinistros['placa4']])\n",
    "placas_duplicadas = placas.value_counts()\n",
    "print(\"Placas que aparecem mais de uma vez:\")\n",
    "print(placas_duplicadas[placas_duplicadas > 1])"
   ]
  },
  {
   "cell_type": "code",
   "execution_count": 34,
   "id": "5b9576d3-155d-49f3-865e-6da4bf0918f3",
   "metadata": {
    "tags": []
   },
   "outputs": [
    {
     "name": "stdout",
     "output_type": "stream",
     "text": [
      "\n",
      "Frequência de UFs (Placas):\n",
      "SP    0.327068\n",
      "MG    0.165414\n",
      "PR    0.139098\n",
      "MT    0.082707\n",
      "RJ    0.052632\n",
      "RS    0.045113\n",
      "GO    0.037594\n",
      "RN    0.030075\n",
      "CE    0.030075\n",
      "MS    0.026316\n",
      "SC    0.026316\n",
      "ES    0.022556\n",
      "PE    0.007519\n",
      "DF    0.003759\n",
      "BA    0.003759\n",
      "Name: count, dtype: float64\n"
     ]
    }
   ],
   "source": [
    "# Frequência de UFs para as colunas uf_placa\n",
    "ufs_placas = pd.concat([df_sinistros['uf_placa1'], df_sinistros['uf_placa2'], df_sinistros['uf_placa3'], df_sinistros['uf_placa4']])\n",
    "print(\"\\nFrequência de UFs (Placas):\")\n",
    "print(ufs_placas.value_counts()/ufs_placas.value_counts().sum())"
   ]
  },
  {
   "cell_type": "code",
   "execution_count": 35,
   "id": "306c4234-40eb-485a-b9e3-b77aa98e22c8",
   "metadata": {
    "tags": []
   },
   "outputs": [
    {
     "name": "stdout",
     "output_type": "stream",
     "text": [
      "\n",
      "Frequência de UFs (RNTRC):\n",
      "SP    0.303371\n",
      "MT    0.179775\n",
      "MG    0.157303\n",
      "PR    0.078652\n",
      "SC    0.037453\n",
      "CE    0.033708\n",
      "GO    0.029963\n",
      "RJ    0.029963\n",
      "MS    0.026217\n",
      "RN    0.022472\n",
      "ES    0.022472\n",
      "RS    0.022472\n",
      "BA    0.014981\n",
      "RO    0.014981\n",
      "AL    0.007491\n",
      "PE    0.007491\n",
      "MA    0.007491\n",
      "PA    0.003745\n",
      "Name: count, dtype: float64\n"
     ]
    }
   ],
   "source": [
    "# Frequência de UFs para as colunas uf_rntrc\n",
    "ufs_rntrc = pd.concat([df_sinistros['uf_rntrc1'], df_sinistros['uf_rntrc2'], df_sinistros['uf_rntrc3'], df_sinistros['uf_rntrc4']])\n",
    "print(\"\\nFrequência de UFs (RNTRC):\")\n",
    "print(ufs_rntrc.value_counts()/ufs_rntrc.value_counts().sum())"
   ]
  },
  {
   "cell_type": "code",
   "execution_count": 36,
   "id": "3017ba40-3fd6-4bd0-8815-4cf347fb6ebb",
   "metadata": {
    "tags": []
   },
   "outputs": [
    {
     "data": {
      "text/html": [
       "<div>\n",
       "<style scoped>\n",
       "    .dataframe tbody tr th:only-of-type {\n",
       "        vertical-align: middle;\n",
       "    }\n",
       "\n",
       "    .dataframe tbody tr th {\n",
       "        vertical-align: top;\n",
       "    }\n",
       "\n",
       "    .dataframe thead th {\n",
       "        text-align: right;\n",
       "    }\n",
       "</style>\n",
       "<table border=\"1\" class=\"dataframe\">\n",
       "  <thead>\n",
       "    <tr style=\"text-align: right;\">\n",
       "      <th></th>\n",
       "      <th>composicao</th>\n",
       "      <th>data_sinistro</th>\n",
       "      <th>sinistro</th>\n",
       "      <th>total_plates</th>\n",
       "      <th>motorista</th>\n",
       "      <th>cpf_motorista</th>\n",
       "      <th>uf_placa1</th>\n",
       "      <th>placa1</th>\n",
       "      <th>rntrc1</th>\n",
       "      <th>uf_rntrc1</th>\n",
       "      <th>...</th>\n",
       "      <th>comparacao_placa1</th>\n",
       "      <th>comparacao_placa2</th>\n",
       "      <th>comparacao_placa3</th>\n",
       "      <th>comparacao_placa4</th>\n",
       "      <th>comparacao_ufs_placas</th>\n",
       "      <th>comparacao_ufs_rntrcs</th>\n",
       "      <th>total_vehicle_cpfs</th>\n",
       "      <th>total_vehicles_cnpj</th>\n",
       "      <th>total_rntrc_cpfs</th>\n",
       "      <th>total_rntrc_cnpj</th>\n",
       "    </tr>\n",
       "  </thead>\n",
       "  <tbody>\n",
       "    <tr>\n",
       "      <th>0</th>\n",
       "      <td>JHN0163 &gt; BTT2235 &gt; BTT2236</td>\n",
       "      <td>2021-04-10</td>\n",
       "      <td>1</td>\n",
       "      <td>3</td>\n",
       "      <td>BRUNO HENRIQUE ALVES RODRIGUES</td>\n",
       "      <td>39706014870</td>\n",
       "      <td>DF</td>\n",
       "      <td>JHN0163</td>\n",
       "      <td>50328277</td>\n",
       "      <td>MT</td>\n",
       "      <td>...</td>\n",
       "      <td>False</td>\n",
       "      <td>False</td>\n",
       "      <td>False</td>\n",
       "      <td>NaN</td>\n",
       "      <td>False</td>\n",
       "      <td>True</td>\n",
       "      <td>3</td>\n",
       "      <td>0</td>\n",
       "      <td>0</td>\n",
       "      <td>3</td>\n",
       "    </tr>\n",
       "    <tr>\n",
       "      <th>1</th>\n",
       "      <td>ASL9602 &gt; NCZ7455 &gt; NCZ7535</td>\n",
       "      <td>2020-12-06</td>\n",
       "      <td>1</td>\n",
       "      <td>3</td>\n",
       "      <td>GILMAR JOSE ROMANZINI</td>\n",
       "      <td>94218331987</td>\n",
       "      <td>PR</td>\n",
       "      <td>ASL9602</td>\n",
       "      <td>52982311</td>\n",
       "      <td>MT</td>\n",
       "      <td>...</td>\n",
       "      <td>False</td>\n",
       "      <td>False</td>\n",
       "      <td>False</td>\n",
       "      <td>NaN</td>\n",
       "      <td>False</td>\n",
       "      <td>True</td>\n",
       "      <td>0</td>\n",
       "      <td>2</td>\n",
       "      <td>0</td>\n",
       "      <td>3</td>\n",
       "    </tr>\n",
       "    <tr>\n",
       "      <th>2</th>\n",
       "      <td>HRO7J99 &gt; HTO6J04 &gt; HTO6J05</td>\n",
       "      <td>2022-07-18</td>\n",
       "      <td>1</td>\n",
       "      <td>3</td>\n",
       "      <td>MAURICIO RIBEIRO DE OLIVEIRA FILHO</td>\n",
       "      <td>03019793912</td>\n",
       "      <td>MS</td>\n",
       "      <td>HRO7J99</td>\n",
       "      <td>55066066</td>\n",
       "      <td>MS</td>\n",
       "      <td>...</td>\n",
       "      <td>True</td>\n",
       "      <td>True</td>\n",
       "      <td>True</td>\n",
       "      <td>NaN</td>\n",
       "      <td>True</td>\n",
       "      <td>True</td>\n",
       "      <td>3</td>\n",
       "      <td>0</td>\n",
       "      <td>3</td>\n",
       "      <td>0</td>\n",
       "    </tr>\n",
       "    <tr>\n",
       "      <th>3</th>\n",
       "      <td>AWF9F71 &gt; ATP3E30</td>\n",
       "      <td>2023-05-18</td>\n",
       "      <td>1</td>\n",
       "      <td>2</td>\n",
       "      <td>EDILSON FRANCISCO DE JESUS JUNIOR</td>\n",
       "      <td>10589080733</td>\n",
       "      <td>RJ</td>\n",
       "      <td>AWF9F71</td>\n",
       "      <td>55729922</td>\n",
       "      <td>PR</td>\n",
       "      <td>...</td>\n",
       "      <td>False</td>\n",
       "      <td>False</td>\n",
       "      <td>NaN</td>\n",
       "      <td>NaN</td>\n",
       "      <td>True</td>\n",
       "      <td>True</td>\n",
       "      <td>2</td>\n",
       "      <td>0</td>\n",
       "      <td>2</td>\n",
       "      <td>0</td>\n",
       "    </tr>\n",
       "    <tr>\n",
       "      <th>4</th>\n",
       "      <td>CSK6H33 &gt; RAV0C90</td>\n",
       "      <td>2022-07-22</td>\n",
       "      <td>1</td>\n",
       "      <td>2</td>\n",
       "      <td>CARLOS ROBERTO DE JESUS SALUSTIANO</td>\n",
       "      <td>90360397115</td>\n",
       "      <td>SP</td>\n",
       "      <td>CSK6H33</td>\n",
       "      <td>54697966</td>\n",
       "      <td>SP</td>\n",
       "      <td>...</td>\n",
       "      <td>True</td>\n",
       "      <td>True</td>\n",
       "      <td>NaN</td>\n",
       "      <td>NaN</td>\n",
       "      <td>True</td>\n",
       "      <td>True</td>\n",
       "      <td>2</td>\n",
       "      <td>0</td>\n",
       "      <td>2</td>\n",
       "      <td>0</td>\n",
       "    </tr>\n",
       "  </tbody>\n",
       "</table>\n",
       "<p>5 rows × 64 columns</p>\n",
       "</div>"
      ],
      "text/plain": [
       "                    composicao data_sinistro  sinistro  total_plates  \\\n",
       "0  JHN0163 > BTT2235 > BTT2236    2021-04-10         1             3   \n",
       "1  ASL9602 > NCZ7455 > NCZ7535    2020-12-06         1             3   \n",
       "2  HRO7J99 > HTO6J04 > HTO6J05    2022-07-18         1             3   \n",
       "3            AWF9F71 > ATP3E30    2023-05-18         1             2   \n",
       "4            CSK6H33 > RAV0C90    2022-07-22         1             2   \n",
       "\n",
       "                            motorista cpf_motorista uf_placa1   placa1  \\\n",
       "0      BRUNO HENRIQUE ALVES RODRIGUES   39706014870        DF  JHN0163   \n",
       "1               GILMAR JOSE ROMANZINI   94218331987        PR  ASL9602   \n",
       "2  MAURICIO RIBEIRO DE OLIVEIRA FILHO   03019793912        MS  HRO7J99   \n",
       "3   EDILSON FRANCISCO DE JESUS JUNIOR   10589080733        RJ  AWF9F71   \n",
       "4  CARLOS ROBERTO DE JESUS SALUSTIANO   90360397115        SP  CSK6H33   \n",
       "\n",
       "     rntrc1 uf_rntrc1  ... comparacao_placa1 comparacao_placa2  \\\n",
       "0  50328277        MT  ...             False             False   \n",
       "1  52982311        MT  ...             False             False   \n",
       "2  55066066        MS  ...              True              True   \n",
       "3  55729922        PR  ...             False             False   \n",
       "4  54697966        SP  ...              True              True   \n",
       "\n",
       "  comparacao_placa3 comparacao_placa4 comparacao_ufs_placas  \\\n",
       "0             False               NaN                 False   \n",
       "1             False               NaN                 False   \n",
       "2              True               NaN                  True   \n",
       "3               NaN               NaN                  True   \n",
       "4               NaN               NaN                  True   \n",
       "\n",
       "  comparacao_ufs_rntrcs total_vehicle_cpfs  total_vehicles_cnpj  \\\n",
       "0                  True                  3                    0   \n",
       "1                  True                  0                    2   \n",
       "2                  True                  3                    0   \n",
       "3                  True                  2                    0   \n",
       "4                  True                  2                    0   \n",
       "\n",
       "  total_rntrc_cpfs total_rntrc_cnpj  \n",
       "0                0                3  \n",
       "1                0                3  \n",
       "2                3                0  \n",
       "3                2                0  \n",
       "4                2                0  \n",
       "\n",
       "[5 rows x 64 columns]"
      ]
     },
     "execution_count": 36,
     "metadata": {},
     "output_type": "execute_result"
    }
   ],
   "source": [
    "df_sinistros.head()"
   ]
  },
  {
   "cell_type": "markdown",
   "id": "02be7a81-2e40-463d-b9d2-2649d920714c",
   "metadata": {},
   "source": [
    "#### Análise tipo de carga"
   ]
  },
  {
   "cell_type": "code",
   "execution_count": 37,
   "id": "a1e5566a-1cf3-4079-87ed-67c73d79e1d0",
   "metadata": {
    "tags": []
   },
   "outputs": [],
   "source": [
    "cols_freq = ['secao_ncm', 'capitulo_ncm', 'tipo', 'nome_carga']\n",
    "\n",
    "dfs_freq_carga = {}\n",
    "\n",
    "for col in cols_freq:\n",
    "    if col in ['tipo', 'nome_carga']:\n",
    "        df_sinistros[col] = df_sinistros[col].apply(lambda x: unidecode(str(x)))\n",
    "    \n",
    "    total = df_sinistros[col].value_counts().sum()\n",
    "    frequencia = df_sinistros[col].value_counts()\n",
    "    porcentagem = (frequencia / total) * 100\n",
    "    \n",
    "    dfs_freq_carga[col] = pd.DataFrame({\n",
    "        'Total': frequencia,\n",
    "        'Porcentagem (%)': round(porcentagem,2)\n",
    "    })"
   ]
  },
  {
   "cell_type": "code",
   "execution_count": 38,
   "id": "84933872-2073-4f0e-9b91-90312742306f",
   "metadata": {
    "tags": []
   },
   "outputs": [
    {
     "data": {
      "text/html": [
       "<div>\n",
       "<style scoped>\n",
       "    .dataframe tbody tr th:only-of-type {\n",
       "        vertical-align: middle;\n",
       "    }\n",
       "\n",
       "    .dataframe tbody tr th {\n",
       "        vertical-align: top;\n",
       "    }\n",
       "\n",
       "    .dataframe thead th {\n",
       "        text-align: right;\n",
       "    }\n",
       "</style>\n",
       "<table border=\"1\" class=\"dataframe\">\n",
       "  <thead>\n",
       "    <tr style=\"text-align: right;\">\n",
       "      <th></th>\n",
       "      <th>Total</th>\n",
       "      <th>Porcentagem (%)</th>\n",
       "    </tr>\n",
       "    <tr>\n",
       "      <th>secao_ncm</th>\n",
       "      <th></th>\n",
       "      <th></th>\n",
       "    </tr>\n",
       "  </thead>\n",
       "  <tbody>\n",
       "    <tr>\n",
       "      <th>IV</th>\n",
       "      <td>45</td>\n",
       "      <td>36.0</td>\n",
       "    </tr>\n",
       "    <tr>\n",
       "      <th>II</th>\n",
       "      <td>25</td>\n",
       "      <td>20.0</td>\n",
       "    </tr>\n",
       "    <tr>\n",
       "      <th>XX</th>\n",
       "      <td>11</td>\n",
       "      <td>8.8</td>\n",
       "    </tr>\n",
       "    <tr>\n",
       "      <th>XV</th>\n",
       "      <td>9</td>\n",
       "      <td>7.2</td>\n",
       "    </tr>\n",
       "    <tr>\n",
       "      <th>V</th>\n",
       "      <td>9</td>\n",
       "      <td>7.2</td>\n",
       "    </tr>\n",
       "    <tr>\n",
       "      <th>VI</th>\n",
       "      <td>9</td>\n",
       "      <td>7.2</td>\n",
       "    </tr>\n",
       "    <tr>\n",
       "      <th>X</th>\n",
       "      <td>8</td>\n",
       "      <td>6.4</td>\n",
       "    </tr>\n",
       "    <tr>\n",
       "      <th>VII</th>\n",
       "      <td>5</td>\n",
       "      <td>4.0</td>\n",
       "    </tr>\n",
       "    <tr>\n",
       "      <th>XVI</th>\n",
       "      <td>1</td>\n",
       "      <td>0.8</td>\n",
       "    </tr>\n",
       "    <tr>\n",
       "      <th>XI</th>\n",
       "      <td>1</td>\n",
       "      <td>0.8</td>\n",
       "    </tr>\n",
       "    <tr>\n",
       "      <th>I</th>\n",
       "      <td>1</td>\n",
       "      <td>0.8</td>\n",
       "    </tr>\n",
       "    <tr>\n",
       "      <th>XIII</th>\n",
       "      <td>1</td>\n",
       "      <td>0.8</td>\n",
       "    </tr>\n",
       "  </tbody>\n",
       "</table>\n",
       "</div>"
      ],
      "text/plain": [
       "           Total  Porcentagem (%)\n",
       "secao_ncm                        \n",
       "IV            45             36.0\n",
       "II            25             20.0\n",
       "XX            11              8.8\n",
       "XV             9              7.2\n",
       "V              9              7.2\n",
       "VI             9              7.2\n",
       "X              8              6.4\n",
       "VII            5              4.0\n",
       "XVI            1              0.8\n",
       "XI             1              0.8\n",
       "I              1              0.8\n",
       "XIII           1              0.8"
      ]
     },
     "execution_count": 38,
     "metadata": {},
     "output_type": "execute_result"
    }
   ],
   "source": [
    "# SEÇÃO IV: PRODUTOS DAS INDÚSTRIAS ALIMENTARES; BEBIDAS, LÍQUIDOS ALCOÓLICOS E VINAGRES\n",
    "# SEÇÃO II: PRODUTOS DO REINO VEGETAL\n",
    "# SEÇÃO XX: MÁQUINAS E APARELHOS, MATERIAL ELÉTRICO, E SUAS PARTES; APARELHOS DE GRAVAÇÃO OU\n",
    "# SEÇÃO XV: METAIS COMUNS E SUAS OBRAS\n",
    "# SEÇÃO V: PRODUTOS MINERAIS\n",
    "# SEÇÃO VI: PRODUTOS DAS INDÚSTRIAS QUÍMICAS OU DAS INDÚSTRIAS CONEXAS\n",
    "# SEÇÃO X: PASTAS DE MADEIRA OU DE OUTRAS MATÉRIAS FIBROSAS CELULÓSICAS; PAPEL OU CARTÃO\n",
    "dfs_freq_carga['secao_ncm']"
   ]
  },
  {
   "cell_type": "code",
   "execution_count": 39,
   "id": "a8776ce7-369c-46f0-b0cb-cb7d4b11b7ed",
   "metadata": {
    "tags": []
   },
   "outputs": [
    {
     "data": {
      "text/html": [
       "<div>\n",
       "<style scoped>\n",
       "    .dataframe tbody tr th:only-of-type {\n",
       "        vertical-align: middle;\n",
       "    }\n",
       "\n",
       "    .dataframe tbody tr th {\n",
       "        vertical-align: top;\n",
       "    }\n",
       "\n",
       "    .dataframe thead th {\n",
       "        text-align: right;\n",
       "    }\n",
       "</style>\n",
       "<table border=\"1\" class=\"dataframe\">\n",
       "  <thead>\n",
       "    <tr style=\"text-align: right;\">\n",
       "      <th></th>\n",
       "      <th>Total</th>\n",
       "      <th>Porcentagem (%)</th>\n",
       "    </tr>\n",
       "    <tr>\n",
       "      <th>capitulo_ncm</th>\n",
       "      <th></th>\n",
       "      <th></th>\n",
       "    </tr>\n",
       "  </thead>\n",
       "  <tbody>\n",
       "    <tr>\n",
       "      <th>22</th>\n",
       "      <td>35</td>\n",
       "      <td>28.0</td>\n",
       "    </tr>\n",
       "    <tr>\n",
       "      <th>12</th>\n",
       "      <td>18</td>\n",
       "      <td>14.4</td>\n",
       "    </tr>\n",
       "    <tr>\n",
       "      <th>96</th>\n",
       "      <td>9</td>\n",
       "      <td>7.2</td>\n",
       "    </tr>\n",
       "    <tr>\n",
       "      <th>25</th>\n",
       "      <td>8</td>\n",
       "      <td>6.4</td>\n",
       "    </tr>\n",
       "    <tr>\n",
       "      <th>48</th>\n",
       "      <td>8</td>\n",
       "      <td>6.4</td>\n",
       "    </tr>\n",
       "    <tr>\n",
       "      <th>31</th>\n",
       "      <td>7</td>\n",
       "      <td>5.6</td>\n",
       "    </tr>\n",
       "    <tr>\n",
       "      <th>72</th>\n",
       "      <td>6</td>\n",
       "      <td>4.8</td>\n",
       "    </tr>\n",
       "    <tr>\n",
       "      <th>10</th>\n",
       "      <td>6</td>\n",
       "      <td>4.8</td>\n",
       "    </tr>\n",
       "    <tr>\n",
       "      <th>17</th>\n",
       "      <td>5</td>\n",
       "      <td>4.0</td>\n",
       "    </tr>\n",
       "    <tr>\n",
       "      <th>39</th>\n",
       "      <td>5</td>\n",
       "      <td>4.0</td>\n",
       "    </tr>\n",
       "    <tr>\n",
       "      <th>21</th>\n",
       "      <td>3</td>\n",
       "      <td>2.4</td>\n",
       "    </tr>\n",
       "    <tr>\n",
       "      <th>73</th>\n",
       "      <td>2</td>\n",
       "      <td>1.6</td>\n",
       "    </tr>\n",
       "    <tr>\n",
       "      <th>38</th>\n",
       "      <td>1</td>\n",
       "      <td>0.8</td>\n",
       "    </tr>\n",
       "    <tr>\n",
       "      <th>23</th>\n",
       "      <td>1</td>\n",
       "      <td>0.8</td>\n",
       "    </tr>\n",
       "    <tr>\n",
       "      <th>63</th>\n",
       "      <td>1</td>\n",
       "      <td>0.8</td>\n",
       "    </tr>\n",
       "    <tr>\n",
       "      <th>84</th>\n",
       "      <td>1</td>\n",
       "      <td>0.8</td>\n",
       "    </tr>\n",
       "    <tr>\n",
       "      <th>4</th>\n",
       "      <td>1</td>\n",
       "      <td>0.8</td>\n",
       "    </tr>\n",
       "    <tr>\n",
       "      <th>34</th>\n",
       "      <td>1</td>\n",
       "      <td>0.8</td>\n",
       "    </tr>\n",
       "    <tr>\n",
       "      <th>19</th>\n",
       "      <td>1</td>\n",
       "      <td>0.8</td>\n",
       "    </tr>\n",
       "    <tr>\n",
       "      <th>27</th>\n",
       "      <td>1</td>\n",
       "      <td>0.8</td>\n",
       "    </tr>\n",
       "    <tr>\n",
       "      <th>70</th>\n",
       "      <td>1</td>\n",
       "      <td>0.8</td>\n",
       "    </tr>\n",
       "    <tr>\n",
       "      <th>76</th>\n",
       "      <td>1</td>\n",
       "      <td>0.8</td>\n",
       "    </tr>\n",
       "    <tr>\n",
       "      <th>95</th>\n",
       "      <td>1</td>\n",
       "      <td>0.8</td>\n",
       "    </tr>\n",
       "    <tr>\n",
       "      <th>94</th>\n",
       "      <td>1</td>\n",
       "      <td>0.8</td>\n",
       "    </tr>\n",
       "    <tr>\n",
       "      <th>11</th>\n",
       "      <td>1</td>\n",
       "      <td>0.8</td>\n",
       "    </tr>\n",
       "  </tbody>\n",
       "</table>\n",
       "</div>"
      ],
      "text/plain": [
       "              Total  Porcentagem (%)\n",
       "capitulo_ncm                        \n",
       "22               35             28.0\n",
       "12               18             14.4\n",
       "96                9              7.2\n",
       "25                8              6.4\n",
       "48                8              6.4\n",
       "31                7              5.6\n",
       "72                6              4.8\n",
       "10                6              4.8\n",
       "17                5              4.0\n",
       "39                5              4.0\n",
       "21                3              2.4\n",
       "73                2              1.6\n",
       "38                1              0.8\n",
       "23                1              0.8\n",
       "63                1              0.8\n",
       "84                1              0.8\n",
       "4                 1              0.8\n",
       "34                1              0.8\n",
       "19                1              0.8\n",
       "27                1              0.8\n",
       "70                1              0.8\n",
       "76                1              0.8\n",
       "95                1              0.8\n",
       "94                1              0.8\n",
       "11                1              0.8"
      ]
     },
     "execution_count": 39,
     "metadata": {},
     "output_type": "execute_result"
    }
   ],
   "source": [
    "# capítulo 22: Bebidas, líquidos alcoólicos e vinagres.\n",
    "# capítulo 12: Sementes e frutos oleaginosos; grãos, sementes e frutos diversos; plantas industriais ou medicinais; palhas e forragens.\n",
    "# capítulo 96: Obras diversas\n",
    "# capítulo 25: Sal; enxofre; terras e pedras; gesso, cal e cimento.\n",
    "# capítulo 48: Papel e cartão; obras de pasta de celulose, de papel ou de cartão.\n",
    "# capítulo 31: Adubos (fertilizantes).\n",
    "\n",
    "dfs_freq_carga['capitulo_ncm']"
   ]
  },
  {
   "cell_type": "code",
   "execution_count": 40,
   "id": "7fa2deec-4f18-4847-a32c-6a8b2c33c8ef",
   "metadata": {
    "tags": []
   },
   "outputs": [
    {
     "data": {
      "text/html": [
       "<div>\n",
       "<style scoped>\n",
       "    .dataframe tbody tr th:only-of-type {\n",
       "        vertical-align: middle;\n",
       "    }\n",
       "\n",
       "    .dataframe tbody tr th {\n",
       "        vertical-align: top;\n",
       "    }\n",
       "\n",
       "    .dataframe thead th {\n",
       "        text-align: right;\n",
       "    }\n",
       "</style>\n",
       "<table border=\"1\" class=\"dataframe\">\n",
       "  <thead>\n",
       "    <tr style=\"text-align: right;\">\n",
       "      <th></th>\n",
       "      <th>Total</th>\n",
       "      <th>Porcentagem (%)</th>\n",
       "    </tr>\n",
       "    <tr>\n",
       "      <th>tipo</th>\n",
       "      <th></th>\n",
       "      <th></th>\n",
       "    </tr>\n",
       "  </thead>\n",
       "  <tbody>\n",
       "    <tr>\n",
       "      <th>BEBIDAS</th>\n",
       "      <td>35</td>\n",
       "      <td>28.0</td>\n",
       "    </tr>\n",
       "    <tr>\n",
       "      <th>ALIMENTOS</th>\n",
       "      <td>33</td>\n",
       "      <td>26.4</td>\n",
       "    </tr>\n",
       "    <tr>\n",
       "      <th>PRODUTOS DE HIGIENE</th>\n",
       "      <td>15</td>\n",
       "      <td>12.0</td>\n",
       "    </tr>\n",
       "    <tr>\n",
       "      <th>MATERIAIS DE CONSTRUCAO</th>\n",
       "      <td>14</td>\n",
       "      <td>11.2</td>\n",
       "    </tr>\n",
       "    <tr>\n",
       "      <th>FERTILIZANTES</th>\n",
       "      <td>7</td>\n",
       "      <td>5.6</td>\n",
       "    </tr>\n",
       "    <tr>\n",
       "      <th>POLIETILENO</th>\n",
       "      <td>3</td>\n",
       "      <td>2.4</td>\n",
       "    </tr>\n",
       "    <tr>\n",
       "      <th>ACO</th>\n",
       "      <td>3</td>\n",
       "      <td>2.4</td>\n",
       "    </tr>\n",
       "    <tr>\n",
       "      <th>PAPEL</th>\n",
       "      <td>2</td>\n",
       "      <td>1.6</td>\n",
       "    </tr>\n",
       "    <tr>\n",
       "      <th>SUCATA</th>\n",
       "      <td>2</td>\n",
       "      <td>1.6</td>\n",
       "    </tr>\n",
       "    <tr>\n",
       "      <th>MAQUINAS</th>\n",
       "      <td>1</td>\n",
       "      <td>0.8</td>\n",
       "    </tr>\n",
       "    <tr>\n",
       "      <th>RESIDUOS ALIMENTARES</th>\n",
       "      <td>1</td>\n",
       "      <td>0.8</td>\n",
       "    </tr>\n",
       "    <tr>\n",
       "      <th>LEITE</th>\n",
       "      <td>1</td>\n",
       "      <td>0.8</td>\n",
       "    </tr>\n",
       "    <tr>\n",
       "      <th>PRODUTOS DE LIMPEZA</th>\n",
       "      <td>1</td>\n",
       "      <td>0.8</td>\n",
       "    </tr>\n",
       "    <tr>\n",
       "      <th>OLEO LUBRIFICANTE</th>\n",
       "      <td>1</td>\n",
       "      <td>0.8</td>\n",
       "    </tr>\n",
       "    <tr>\n",
       "      <th>COPOLIMERO</th>\n",
       "      <td>1</td>\n",
       "      <td>0.8</td>\n",
       "    </tr>\n",
       "    <tr>\n",
       "      <th>GARRAFAS</th>\n",
       "      <td>1</td>\n",
       "      <td>0.8</td>\n",
       "    </tr>\n",
       "    <tr>\n",
       "      <th>UTILITARIOS DOMESTICOS</th>\n",
       "      <td>1</td>\n",
       "      <td>0.8</td>\n",
       "    </tr>\n",
       "    <tr>\n",
       "      <th>BRINQUEDOS</th>\n",
       "      <td>1</td>\n",
       "      <td>0.8</td>\n",
       "    </tr>\n",
       "    <tr>\n",
       "      <th>MOVEIS</th>\n",
       "      <td>1</td>\n",
       "      <td>0.8</td>\n",
       "    </tr>\n",
       "    <tr>\n",
       "      <th>MATERIA PRIMA CERVEJA</th>\n",
       "      <td>1</td>\n",
       "      <td>0.8</td>\n",
       "    </tr>\n",
       "  </tbody>\n",
       "</table>\n",
       "</div>"
      ],
      "text/plain": [
       "                         Total  Porcentagem (%)\n",
       "tipo                                           \n",
       "BEBIDAS                     35             28.0\n",
       "ALIMENTOS                   33             26.4\n",
       "PRODUTOS DE HIGIENE         15             12.0\n",
       "MATERIAIS DE CONSTRUCAO     14             11.2\n",
       "FERTILIZANTES                7              5.6\n",
       "POLIETILENO                  3              2.4\n",
       "ACO                          3              2.4\n",
       "PAPEL                        2              1.6\n",
       "SUCATA                       2              1.6\n",
       "MAQUINAS                     1              0.8\n",
       "RESIDUOS ALIMENTARES         1              0.8\n",
       "LEITE                        1              0.8\n",
       "PRODUTOS DE LIMPEZA          1              0.8\n",
       "OLEO LUBRIFICANTE            1              0.8\n",
       "COPOLIMERO                   1              0.8\n",
       "GARRAFAS                     1              0.8\n",
       "UTILITARIOS DOMESTICOS       1              0.8\n",
       "BRINQUEDOS                   1              0.8\n",
       "MOVEIS                       1              0.8\n",
       "MATERIA PRIMA CERVEJA        1              0.8"
      ]
     },
     "execution_count": 40,
     "metadata": {},
     "output_type": "execute_result"
    }
   ],
   "source": [
    "dfs_freq_carga['tipo']"
   ]
  },
  {
   "cell_type": "code",
   "execution_count": 41,
   "id": "3d604ac9-18c7-4e21-9897-ff80706d5c02",
   "metadata": {
    "tags": []
   },
   "outputs": [
    {
     "data": {
      "text/html": [
       "<div>\n",
       "<style scoped>\n",
       "    .dataframe tbody tr th:only-of-type {\n",
       "        vertical-align: middle;\n",
       "    }\n",
       "\n",
       "    .dataframe tbody tr th {\n",
       "        vertical-align: top;\n",
       "    }\n",
       "\n",
       "    .dataframe thead th {\n",
       "        text-align: right;\n",
       "    }\n",
       "</style>\n",
       "<table border=\"1\" class=\"dataframe\">\n",
       "  <thead>\n",
       "    <tr style=\"text-align: right;\">\n",
       "      <th></th>\n",
       "      <th>Total</th>\n",
       "      <th>Porcentagem (%)</th>\n",
       "    </tr>\n",
       "    <tr>\n",
       "      <th>nome_carga</th>\n",
       "      <th></th>\n",
       "      <th></th>\n",
       "    </tr>\n",
       "  </thead>\n",
       "  <tbody>\n",
       "    <tr>\n",
       "      <th>CERVEJA</th>\n",
       "      <td>28</td>\n",
       "      <td>22.4</td>\n",
       "    </tr>\n",
       "    <tr>\n",
       "      <th>SOJA</th>\n",
       "      <td>18</td>\n",
       "      <td>14.4</td>\n",
       "    </tr>\n",
       "    <tr>\n",
       "      <th>CIMENTO</th>\n",
       "      <td>7</td>\n",
       "      <td>5.6</td>\n",
       "    </tr>\n",
       "    <tr>\n",
       "      <th>FERTILIZANTES</th>\n",
       "      <td>6</td>\n",
       "      <td>4.8</td>\n",
       "    </tr>\n",
       "    <tr>\n",
       "      <th>VERGALHAO</th>\n",
       "      <td>5</td>\n",
       "      <td>4.0</td>\n",
       "    </tr>\n",
       "    <tr>\n",
       "      <th>ABSORVENTES</th>\n",
       "      <td>5</td>\n",
       "      <td>4.0</td>\n",
       "    </tr>\n",
       "    <tr>\n",
       "      <th>PAPEL HIGIENICO</th>\n",
       "      <td>5</td>\n",
       "      <td>4.0</td>\n",
       "    </tr>\n",
       "    <tr>\n",
       "      <th>ACUCAR</th>\n",
       "      <td>5</td>\n",
       "      <td>4.0</td>\n",
       "    </tr>\n",
       "    <tr>\n",
       "      <th>REFRIGERANTES</th>\n",
       "      <td>4</td>\n",
       "      <td>3.2</td>\n",
       "    </tr>\n",
       "    <tr>\n",
       "      <th>MILHO</th>\n",
       "      <td>4</td>\n",
       "      <td>3.2</td>\n",
       "    </tr>\n",
       "    <tr>\n",
       "      <th>FRALDAS</th>\n",
       "      <td>3</td>\n",
       "      <td>2.4</td>\n",
       "    </tr>\n",
       "    <tr>\n",
       "      <th>POLIETILENO</th>\n",
       "      <td>3</td>\n",
       "      <td>2.4</td>\n",
       "    </tr>\n",
       "    <tr>\n",
       "      <th>ACO</th>\n",
       "      <td>2</td>\n",
       "      <td>1.6</td>\n",
       "    </tr>\n",
       "    <tr>\n",
       "      <th>ENERGETICO</th>\n",
       "      <td>2</td>\n",
       "      <td>1.6</td>\n",
       "    </tr>\n",
       "    <tr>\n",
       "      <th>ENLATADOS</th>\n",
       "      <td>2</td>\n",
       "      <td>1.6</td>\n",
       "    </tr>\n",
       "    <tr>\n",
       "      <th>PAPEL A4</th>\n",
       "      <td>2</td>\n",
       "      <td>1.6</td>\n",
       "    </tr>\n",
       "    <tr>\n",
       "      <th>PAPEL TOALHA</th>\n",
       "      <td>1</td>\n",
       "      <td>0.8</td>\n",
       "    </tr>\n",
       "    <tr>\n",
       "      <th>BISCOITOS</th>\n",
       "      <td>1</td>\n",
       "      <td>0.8</td>\n",
       "    </tr>\n",
       "    <tr>\n",
       "      <th>CATCHUP</th>\n",
       "      <td>1</td>\n",
       "      <td>0.8</td>\n",
       "    </tr>\n",
       "    <tr>\n",
       "      <th>MOVEIS</th>\n",
       "      <td>1</td>\n",
       "      <td>0.8</td>\n",
       "    </tr>\n",
       "    <tr>\n",
       "      <th>BRINQUEDOS</th>\n",
       "      <td>1</td>\n",
       "      <td>0.8</td>\n",
       "    </tr>\n",
       "    <tr>\n",
       "      <th>FILME SHRINK</th>\n",
       "      <td>1</td>\n",
       "      <td>0.8</td>\n",
       "    </tr>\n",
       "    <tr>\n",
       "      <th>ALUMINIO</th>\n",
       "      <td>1</td>\n",
       "      <td>0.8</td>\n",
       "    </tr>\n",
       "    <tr>\n",
       "      <th>ALIMENTOS DIVERSOS</th>\n",
       "      <td>1</td>\n",
       "      <td>0.8</td>\n",
       "    </tr>\n",
       "    <tr>\n",
       "      <th>MATERIAIS DE CONSTRUCAO</th>\n",
       "      <td>1</td>\n",
       "      <td>0.8</td>\n",
       "    </tr>\n",
       "    <tr>\n",
       "      <th>GARRAFAS</th>\n",
       "      <td>1</td>\n",
       "      <td>0.8</td>\n",
       "    </tr>\n",
       "    <tr>\n",
       "      <th>COPOLIMERO</th>\n",
       "      <td>1</td>\n",
       "      <td>0.8</td>\n",
       "    </tr>\n",
       "    <tr>\n",
       "      <th>OLEO LUBRAX 20W50</th>\n",
       "      <td>1</td>\n",
       "      <td>0.8</td>\n",
       "    </tr>\n",
       "    <tr>\n",
       "      <th>PRODUTOS DE LIMPEZA</th>\n",
       "      <td>1</td>\n",
       "      <td>0.8</td>\n",
       "    </tr>\n",
       "    <tr>\n",
       "      <th>CLORETO DE POTASSIO</th>\n",
       "      <td>1</td>\n",
       "      <td>0.8</td>\n",
       "    </tr>\n",
       "    <tr>\n",
       "      <th>BOBINA LAMINADA A QUENTE</th>\n",
       "      <td>1</td>\n",
       "      <td>0.8</td>\n",
       "    </tr>\n",
       "    <tr>\n",
       "      <th>LEITE</th>\n",
       "      <td>1</td>\n",
       "      <td>0.8</td>\n",
       "    </tr>\n",
       "    <tr>\n",
       "      <th>ARROZ</th>\n",
       "      <td>1</td>\n",
       "      <td>0.8</td>\n",
       "    </tr>\n",
       "    <tr>\n",
       "      <th>SUCATA TEXTIL</th>\n",
       "      <td>1</td>\n",
       "      <td>0.8</td>\n",
       "    </tr>\n",
       "    <tr>\n",
       "      <th>FRALDA</th>\n",
       "      <td>1</td>\n",
       "      <td>0.8</td>\n",
       "    </tr>\n",
       "    <tr>\n",
       "      <th>GERADOR DE VAPOR</th>\n",
       "      <td>1</td>\n",
       "      <td>0.8</td>\n",
       "    </tr>\n",
       "    <tr>\n",
       "      <th>SUCOS</th>\n",
       "      <td>1</td>\n",
       "      <td>0.8</td>\n",
       "    </tr>\n",
       "    <tr>\n",
       "      <th>TORTA DE ALGODAO</th>\n",
       "      <td>1</td>\n",
       "      <td>0.8</td>\n",
       "    </tr>\n",
       "    <tr>\n",
       "      <th>ARGAMASSA</th>\n",
       "      <td>1</td>\n",
       "      <td>0.8</td>\n",
       "    </tr>\n",
       "    <tr>\n",
       "      <th>MALTE</th>\n",
       "      <td>1</td>\n",
       "      <td>0.8</td>\n",
       "    </tr>\n",
       "  </tbody>\n",
       "</table>\n",
       "</div>"
      ],
      "text/plain": [
       "                          Total  Porcentagem (%)\n",
       "nome_carga                                      \n",
       "CERVEJA                      28             22.4\n",
       "SOJA                         18             14.4\n",
       "CIMENTO                       7              5.6\n",
       "FERTILIZANTES                 6              4.8\n",
       "VERGALHAO                     5              4.0\n",
       "ABSORVENTES                   5              4.0\n",
       "PAPEL HIGIENICO               5              4.0\n",
       "ACUCAR                        5              4.0\n",
       "REFRIGERANTES                 4              3.2\n",
       "MILHO                         4              3.2\n",
       "FRALDAS                       3              2.4\n",
       "POLIETILENO                   3              2.4\n",
       "ACO                           2              1.6\n",
       "ENERGETICO                    2              1.6\n",
       "ENLATADOS                     2              1.6\n",
       "PAPEL A4                      2              1.6\n",
       "PAPEL TOALHA                  1              0.8\n",
       "BISCOITOS                     1              0.8\n",
       "CATCHUP                       1              0.8\n",
       "MOVEIS                        1              0.8\n",
       "BRINQUEDOS                    1              0.8\n",
       "FILME SHRINK                  1              0.8\n",
       "ALUMINIO                      1              0.8\n",
       "ALIMENTOS DIVERSOS            1              0.8\n",
       "MATERIAIS DE CONSTRUCAO       1              0.8\n",
       "GARRAFAS                      1              0.8\n",
       "COPOLIMERO                    1              0.8\n",
       "OLEO LUBRAX 20W50             1              0.8\n",
       "PRODUTOS DE LIMPEZA           1              0.8\n",
       "CLORETO DE POTASSIO           1              0.8\n",
       "BOBINA LAMINADA A QUENTE      1              0.8\n",
       "LEITE                         1              0.8\n",
       "ARROZ                         1              0.8\n",
       "SUCATA TEXTIL                 1              0.8\n",
       "FRALDA                        1              0.8\n",
       "GERADOR DE VAPOR              1              0.8\n",
       "SUCOS                         1              0.8\n",
       "TORTA DE ALGODAO              1              0.8\n",
       "ARGAMASSA                     1              0.8\n",
       "MALTE                         1              0.8"
      ]
     },
     "execution_count": 41,
     "metadata": {},
     "output_type": "execute_result"
    }
   ],
   "source": [
    "dfs_freq_carga['nome_carga']"
   ]
  },
  {
   "cell_type": "code",
   "execution_count": 42,
   "id": "d4c8cae0-d331-4d00-9299-2f90812edc34",
   "metadata": {
    "tags": []
   },
   "outputs": [
    {
     "name": "stdout",
     "output_type": "stream",
     "text": [
      "\n",
      "Frequência para Modelos de Cavalo:\n",
      "modelo_cavalo\n",
      "M.BENZ/LS 1935             4\n",
      "VOLVO/NL12 360 4X2T EDC    4\n",
      "M.BENZ/LS 1634             4\n",
      "M.BENZ/LS 1938             3\n",
      "VOLVO/NH12380 4X2T         3\n",
      "                          ..\n",
      "VW/25.360 CTC 6X2          1\n",
      "SCANIA/T112 MA 4X2         1\n",
      "SCANIA/G 420 A6X2          1\n",
      "VOLVO/NL 10 340 4X2        1\n",
      "VW/25.420 CTC 6X2          1\n",
      "Name: count, Length: 88, dtype: int64\n"
     ]
    }
   ],
   "source": [
    "# Frequência para as colunas de modelo_cavalo\n",
    "print(\"\\nFrequência para Modelos de Cavalo:\")\n",
    "print(df_sinistros['modelo_cavalo'].value_counts())"
   ]
  },
  {
   "cell_type": "code",
   "execution_count": 43,
   "id": "f5fbed93-904e-48ea-8198-1ac91915cc53",
   "metadata": {
    "tags": []
   },
   "outputs": [
    {
     "name": "stdout",
     "output_type": "stream",
     "text": [
      "\n",
      "Frequência para Modelos de Carreta:\n",
      "SR/RANDON SR CA             20\n",
      "SR/GUERRA AG GR             13\n",
      "REB/KRONE                    7\n",
      "SR/RANDON                    7\n",
      "SR/FACCHINI SRF LO           5\n",
      "                            ..\n",
      "SR/SIEPIERSKI SRCS 3E        1\n",
      "REB/FACCHINI-IR RER FR       1\n",
      "REB/GRAHL                    1\n",
      "SR/RODOFORTSA SRFG SI 3E     1\n",
      "REB/RANDON SR GR TR          1\n",
      "Name: count, Length: 62, dtype: int64\n"
     ]
    }
   ],
   "source": [
    "# Frequência para as colunas de modelo_carreta\n",
    "modelos_carreta = pd.concat([df_sinistros['modelo_carreta1'], df_sinistros['modelo_carreta2'], df_sinistros['modelo_carreta3']])\n",
    "print(\"\\nFrequência para Modelos de Carreta:\")\n",
    "print(modelos_carreta.value_counts())"
   ]
  },
  {
   "cell_type": "markdown",
   "id": "9a546332-b2a6-45e8-93d2-717331363f3a",
   "metadata": {},
   "source": [
    "#### Análise total plates"
   ]
  },
  {
   "cell_type": "code",
   "execution_count": 44,
   "id": "37f2890b-a06b-4aef-8dec-baffe57a3725",
   "metadata": {
    "tags": []
   },
   "outputs": [
    {
     "data": {
      "text/plain": [
       "total_plates\n",
       "1    0.048\n",
       "2    0.776\n",
       "3    0.160\n",
       "4    0.016\n",
       "Name: count, dtype: float64"
      ]
     },
     "execution_count": 44,
     "metadata": {},
     "output_type": "execute_result"
    }
   ],
   "source": [
    "df_sinistros.total_plates.value_counts().sort_index()/df_sinistros.total_plates.value_counts().sum()"
   ]
  },
  {
   "cell_type": "code",
   "execution_count": 45,
   "id": "2d0bd596-eb20-44b6-af80-0a31197a701c",
   "metadata": {
    "tags": []
   },
   "outputs": [
    {
     "data": {
      "text/plain": [
       "comp_ufs_plates\n",
       "Diferente    21\n",
       "Igual        96\n",
       "Name: count, dtype: int64"
      ]
     },
     "execution_count": 45,
     "metadata": {},
     "output_type": "execute_result"
    }
   ],
   "source": [
    "df_sinistros.comp_ufs_plates.value_counts().sort_index()"
   ]
  },
  {
   "cell_type": "code",
   "execution_count": 46,
   "id": "e55b4a59-0eea-4d40-90e0-8f0ca83864cb",
   "metadata": {
    "tags": []
   },
   "outputs": [
    {
     "data": {
      "text/plain": [
       "comp_ufs_plates\n",
       "Diferente    0.179487\n",
       "Igual        0.820513\n",
       "Name: count, dtype: float64"
      ]
     },
     "execution_count": 46,
     "metadata": {},
     "output_type": "execute_result"
    }
   ],
   "source": [
    "df_sinistros.comp_ufs_plates.value_counts().sort_index()/df_sinistros.comp_ufs_plates.value_counts().sum()"
   ]
  },
  {
   "cell_type": "code",
   "execution_count": 47,
   "id": "5c0cea92-1215-433e-85ea-5c3c0e7e777e",
   "metadata": {
    "tags": []
   },
   "outputs": [
    {
     "data": {
      "text/plain": [
       "comp_ufs_plates\n",
       "Diferente    21\n",
       "Igual        96\n",
       "Name: count, dtype: int64"
      ]
     },
     "execution_count": 47,
     "metadata": {},
     "output_type": "execute_result"
    }
   ],
   "source": [
    "df_sinistros.comp_ufs_plates.value_counts().sort_index()"
   ]
  },
  {
   "cell_type": "code",
   "execution_count": 48,
   "id": "a37d935f-39a6-41d9-b1a1-885bacb80cc9",
   "metadata": {
    "tags": []
   },
   "outputs": [
    {
     "data": {
      "text/plain": [
       "total_plates  comp_ufs_plates\n",
       "2             Igual              81\n",
       "              Diferente          14\n",
       "3             Igual              13\n",
       "              Diferente           7\n",
       "4             Igual               2\n",
       "Name: count, dtype: int64"
      ]
     },
     "execution_count": 48,
     "metadata": {},
     "output_type": "execute_result"
    }
   ],
   "source": [
    "df_sinistros[['total_plates', 'comp_ufs_plates']].value_counts()"
   ]
  },
  {
   "cell_type": "code",
   "execution_count": 49,
   "id": "35690370-66ed-4199-b3ec-b9c494140d0c",
   "metadata": {
    "tags": []
   },
   "outputs": [
    {
     "data": {
      "text/plain": [
       "comp_ufs_rntrc\n",
       "Igual        114\n",
       "Diferente      4\n",
       "Name: count, dtype: int64"
      ]
     },
     "execution_count": 49,
     "metadata": {},
     "output_type": "execute_result"
    }
   ],
   "source": [
    "df_sinistros.comp_ufs_rntrc.value_counts()"
   ]
  },
  {
   "cell_type": "code",
   "execution_count": 50,
   "id": "47c76fe3-1166-4b0f-b3c4-2ac1c94893b0",
   "metadata": {
    "tags": []
   },
   "outputs": [
    {
     "data": {
      "text/plain": [
       "comp_ufs_rntrc\n",
       "Igual        0.966102\n",
       "Diferente    0.033898\n",
       "Name: count, dtype: float64"
      ]
     },
     "execution_count": 50,
     "metadata": {},
     "output_type": "execute_result"
    }
   ],
   "source": [
    "df_sinistros.comp_ufs_rntrc.value_counts()/df_sinistros.comp_ufs_rntrc.value_counts().sum()"
   ]
  },
  {
   "cell_type": "markdown",
   "id": "5937f727-1282-4df6-8b07-341e26b326f0",
   "metadata": {},
   "source": [
    "### Quantas vezes o motorista é proprietário de alguma das placas"
   ]
  },
  {
   "cell_type": "code",
   "execution_count": 51,
   "id": "d2abe7a8-c6f3-4ad4-983c-0a108481e67d",
   "metadata": {
    "tags": []
   },
   "outputs": [
    {
     "data": {
      "text/plain": [
       "40"
      ]
     },
     "execution_count": 51,
     "metadata": {},
     "output_type": "execute_result"
    }
   ],
   "source": [
    "df_sinistros['mot_prop_alguma_placa'] = df_sinistros[['cpf_motorista'] + [col for col in df_sinistros.columns if col.startswith('cpfcnpj_vehicle')]].apply(lambda row: row['cpf_motorista'] in row[1:].values, axis=1)\n",
    "total_motorista_proprietario_alguma_placa = df_sinistros['mot_prop_alguma_placa'].sum()\n",
    "total_motorista_proprietario_alguma_placa"
   ]
  },
  {
   "cell_type": "code",
   "execution_count": 52,
   "id": "3ada2008-35ff-4e25-a90e-99cffdb2a0c2",
   "metadata": {
    "tags": []
   },
   "outputs": [
    {
     "data": {
      "text/plain": [
       "0.32"
      ]
     },
     "execution_count": 52,
     "metadata": {},
     "output_type": "execute_result"
    }
   ],
   "source": [
    "total_motorista_proprietario_alguma_placa/len(df_sinistros)"
   ]
  },
  {
   "cell_type": "markdown",
   "id": "d3179896-ba09-4e5f-bb22-27a6051fe863",
   "metadata": {},
   "source": [
    "### Quantas vezes o motorista é proprietário de todas as placas"
   ]
  },
  {
   "cell_type": "code",
   "execution_count": 53,
   "id": "7b759b1a-ac68-4ee1-afa4-68a9a19570c2",
   "metadata": {
    "tags": []
   },
   "outputs": [
    {
     "data": {
      "text/plain": [
       "32"
      ]
     },
     "execution_count": 53,
     "metadata": {},
     "output_type": "execute_result"
    }
   ],
   "source": [
    "df_sinistros['mot_prop_todas_placas'] = df_sinistros[['cpf_motorista'] + [col for col in df_sinistros.columns if col.startswith('cpfcnpj_vehicle')]].apply(lambda row: all(item == row['cpf_motorista'] or pd.isna(item) for item in row[1:].values), axis=1)\n",
    "total_proprietario_todas_placas = df_sinistros['mot_prop_todas_placas'].sum()\n",
    "total_proprietario_todas_placas"
   ]
  },
  {
   "cell_type": "code",
   "execution_count": 54,
   "id": "6da14cb7-6d09-4c39-b1af-5b12e3b4e3b0",
   "metadata": {
    "tags": []
   },
   "outputs": [
    {
     "data": {
      "text/plain": [
       "0.256"
      ]
     },
     "execution_count": 54,
     "metadata": {},
     "output_type": "execute_result"
    }
   ],
   "source": [
    "total_proprietario_todas_placas/len(df_sinistros)"
   ]
  },
  {
   "cell_type": "markdown",
   "id": "ba8e25da-b5a5-4034-b883-2f882a51db40",
   "metadata": {},
   "source": [
    "### Quantas vezes o motorista é proprietário de algum dos documentos"
   ]
  },
  {
   "cell_type": "code",
   "execution_count": 55,
   "id": "62f53ce6-3214-4465-92f8-43bf409e0d24",
   "metadata": {
    "tags": []
   },
   "outputs": [
    {
     "data": {
      "text/plain": [
       "39"
      ]
     },
     "execution_count": 55,
     "metadata": {},
     "output_type": "execute_result"
    }
   ],
   "source": [
    "df_sinistros['mot_prop_algum_rntrc'] = df_sinistros[['cpf_motorista'] + [col for col in df_sinistros.columns if col.startswith('cpfcnpj_rntrc')]].apply(lambda row: row['cpf_motorista'] in row[1:].values, axis=1)\n",
    "total_proprietario_algum_documento = df_sinistros['mot_prop_algum_rntrc'].sum()\n",
    "total_proprietario_algum_documento"
   ]
  },
  {
   "cell_type": "code",
   "execution_count": 56,
   "id": "e8c39a6a-dfa2-4a53-a56c-73437c95cacd",
   "metadata": {
    "tags": []
   },
   "outputs": [
    {
     "data": {
      "text/plain": [
       "0.312"
      ]
     },
     "execution_count": 56,
     "metadata": {},
     "output_type": "execute_result"
    }
   ],
   "source": [
    "total_proprietario_algum_documento/len(df_sinistros)"
   ]
  },
  {
   "cell_type": "markdown",
   "id": "e647ba0a-ac9d-4314-9674-f38fd62f2bd7",
   "metadata": {},
   "source": [
    "### Quantas vezes o motorista é proprietário de todos os documentos"
   ]
  },
  {
   "cell_type": "code",
   "execution_count": 57,
   "id": "3a7e80a8-a24c-4b7f-afde-26cad0845ff2",
   "metadata": {
    "tags": []
   },
   "outputs": [],
   "source": [
    "df_sinistros['mot_prop_todos_rntrc'] = df_sinistros.apply(lambda row: all(str(row['cpf_motorista']).find(str(item)) != -1 for item in row[['cpfcnpj_rntrc' + str(i) for i in range(1, 5)]].values if not pd.isna(item)), axis=1)"
   ]
  },
  {
   "cell_type": "code",
   "execution_count": 58,
   "id": "75cf68e7-678f-4bae-b8bb-737eab18a5ca",
   "metadata": {
    "tags": []
   },
   "outputs": [
    {
     "name": "stdout",
     "output_type": "stream",
     "text": [
      "40\n"
     ]
    }
   ],
   "source": [
    "total_motorista_proprietario_todos_rntrc = df_sinistros['mot_prop_todos_rntrc'].sum()\n",
    "print(total_motorista_proprietario_todos_rntrc)"
   ]
  },
  {
   "cell_type": "code",
   "execution_count": 59,
   "id": "1d68d4c0-02eb-426f-a379-a8fbfbd790e9",
   "metadata": {
    "tags": []
   },
   "outputs": [
    {
     "data": {
      "text/plain": [
       "0.32"
      ]
     },
     "execution_count": 59,
     "metadata": {},
     "output_type": "execute_result"
    }
   ],
   "source": [
    "total_motorista_proprietario_todos_rntrc/len(df_sinistros)"
   ]
  },
  {
   "cell_type": "markdown",
   "id": "b61640a8-aa51-4017-a50e-631410771e71",
   "metadata": {},
   "source": [
    "### Quantas vezes o motorista é proprietário de todas as placas e todos os documentos"
   ]
  },
  {
   "cell_type": "code",
   "execution_count": 60,
   "id": "2c2484f2-8810-454b-9d5d-48004a96ddce",
   "metadata": {
    "tags": []
   },
   "outputs": [
    {
     "data": {
      "text/plain": [
       "30"
      ]
     },
     "execution_count": 60,
     "metadata": {},
     "output_type": "execute_result"
    }
   ],
   "source": [
    "df_sinistros['mot_prop_placas_e_documentos'] = df_sinistros['mot_prop_todas_placas'] & df_sinistros['mot_prop_todos_rntrc']\n",
    "total_proprietario_placas_e_documentos = df_sinistros['mot_prop_placas_e_documentos'].sum()\n",
    "total_proprietario_placas_e_documentos"
   ]
  },
  {
   "cell_type": "code",
   "execution_count": 61,
   "id": "f8e3b586-4a55-4647-8ba3-57f965d43d64",
   "metadata": {
    "tags": []
   },
   "outputs": [
    {
     "data": {
      "text/plain": [
       "0.24"
      ]
     },
     "execution_count": 61,
     "metadata": {},
     "output_type": "execute_result"
    }
   ],
   "source": [
    "total_proprietario_placas_e_documentos/len(df_sinistros)"
   ]
  },
  {
   "cell_type": "markdown",
   "id": "b15be40c-f3b6-48f1-8899-35cb01348939",
   "metadata": {},
   "source": [
    "### Quantas vezes o motorista é proprietário de alguma das placas e de algum dos documentos"
   ]
  },
  {
   "cell_type": "code",
   "execution_count": 62,
   "id": "a887a270-4a7a-4e1a-bc99-b2dcd806651d",
   "metadata": {
    "tags": []
   },
   "outputs": [],
   "source": [
    "relevant_columns = ['total_plates',\n",
    "    'cpfcnpj_vehicle1', 'cpfcnpj_vehicle2', 'cpfcnpj_vehicle3', 'cpfcnpj_vehicle4',\n",
    "    'cpfcnpj_rntrc1', 'cpfcnpj_rntrc2', 'cpfcnpj_rntrc3', 'cpfcnpj_rntrc4'\n",
    "]\n",
    "relevant_data = df_sinistros[relevant_columns]"
   ]
  },
  {
   "cell_type": "code",
   "execution_count": 63,
   "id": "2428ad10-3b11-411c-a3ae-2228b4d74c51",
   "metadata": {
    "tags": []
   },
   "outputs": [
    {
     "name": "stdout",
     "output_type": "stream",
     "text": [
      "35\n"
     ]
    }
   ],
   "source": [
    "df_sinistros['mot_prop_alguma_placa_e_documento'] = df_sinistros.apply(lambda row: \n",
    "                   (any(str(row['cpf_motorista']) == str(item) for item in row[[col for col in df_sinistros.columns if col.startswith('cpfcnpj_rntrc')]].values if not pd.isna(item)) and \n",
    "                    any(str(row['cpf_motorista']) == str(item) for item in row[[col for col in df_sinistros.columns if col.startswith('cpfcnpj_vehicle')]].values if not pd.isna(item))), \n",
    "                   axis=1)\n",
    "total_motorista_proprietario_placa_e_documento = df_sinistros['mot_prop_alguma_placa_e_documento'].sum()\n",
    "print(total_motorista_proprietario_placa_e_documento)"
   ]
  },
  {
   "cell_type": "code",
   "execution_count": 64,
   "id": "01aedc50-0036-4cdc-960f-df89ca49cde8",
   "metadata": {
    "tags": []
   },
   "outputs": [
    {
     "data": {
      "text/plain": [
       "0.28"
      ]
     },
     "execution_count": 64,
     "metadata": {},
     "output_type": "execute_result"
    }
   ],
   "source": [
    "total_motorista_proprietario_placa_e_documento/len(df_sinistros)"
   ]
  },
  {
   "cell_type": "markdown",
   "id": "681092f3-d7a5-4da3-939e-4ab2c58874c3",
   "metadata": {},
   "source": [
    "### Quantas vezes o proprietário é o mesmo para todas as placas"
   ]
  },
  {
   "cell_type": "code",
   "execution_count": 65,
   "id": "e487a78f-8f61-473b-add3-325433edebd1",
   "metadata": {
    "tags": []
   },
   "outputs": [],
   "source": [
    "df_sinistros['msm_proprietario_todas_placas'] = (\n",
    "    (df_sinistros[[col for col in df_sinistros.columns if col.startswith('cpfcnpj_vehicle')]].nunique(axis=1) == 1) &\n",
    "    (~df_sinistros[[col for col in df_sinistros.columns if col.startswith('cpfcnpj_vehicle')]].isin([df_sinistros['cpf_motorista']]).any(axis=1))\n",
    ")\n",
    "total_mesmo_proprietario_todas_placas = df_sinistros['msm_proprietario_todas_placas'].sum()"
   ]
  },
  {
   "cell_type": "code",
   "execution_count": 66,
   "id": "4835a07b-4095-441d-a27e-5edf8fd06179",
   "metadata": {
    "tags": []
   },
   "outputs": [
    {
     "data": {
      "text/plain": [
       "0.712"
      ]
     },
     "execution_count": 66,
     "metadata": {},
     "output_type": "execute_result"
    }
   ],
   "source": [
    "total_mesmo_proprietario_todas_placas/len(df_sinistros)"
   ]
  },
  {
   "cell_type": "markdown",
   "id": "4eabd3ab-6772-4f3b-95d7-65e20ed31a17",
   "metadata": {
    "tags": []
   },
   "source": [
    "### Quantas vezes o proprietário é o mesmo para todos os documentos"
   ]
  },
  {
   "cell_type": "markdown",
   "id": "8d25179b-c11a-48e7-9401-41fd38eac7e1",
   "metadata": {},
   "source": [
    "Diferença entre as amostras"
   ]
  },
  {
   "cell_type": "code",
   "execution_count": 67,
   "id": "7417088d-70e3-4228-a063-68df5ef11ae6",
   "metadata": {
    "tags": []
   },
   "outputs": [],
   "source": [
    "df_sinistros['msm_proprietario_todos_documentos'] = (\n",
    "    (df_sinistros[[col for col in df_sinistros.columns if col.startswith('cpfcnpj_rntrc')]].nunique(axis=1) == 1) &\n",
    "    (~df_sinistros[[col for col in df_sinistros.columns if col.startswith('cpfcnpj_rntrc')]].isin([df_sinistros['cpf_motorista']]).any(axis=1))\n",
    ")"
   ]
  },
  {
   "cell_type": "code",
   "execution_count": 68,
   "id": "f89dfc09-62b8-4c4a-8b0d-bc35ac31d1c8",
   "metadata": {
    "tags": []
   },
   "outputs": [
    {
     "data": {
      "text/plain": [
       "0.928"
      ]
     },
     "execution_count": 68,
     "metadata": {},
     "output_type": "execute_result"
    }
   ],
   "source": [
    "df_sinistros['msm_proprietario_todos_documentos'].sum()/len(df_sinistros)"
   ]
  },
  {
   "cell_type": "markdown",
   "id": "f16211af-036f-425e-9d29-dc7d9a5b15c7",
   "metadata": {},
   "source": [
    "### Quantas vezes o proprietário de alguma das placas é também proprietário de algum dos documentos"
   ]
  },
  {
   "cell_type": "markdown",
   "id": "74917f49-2bcf-42f1-a5ec-94497e4219bd",
   "metadata": {},
   "source": [
    "Diferença"
   ]
  },
  {
   "cell_type": "code",
   "execution_count": 69,
   "id": "97fd79e7-27a2-4b84-a4c4-998d8a4afdd7",
   "metadata": {
    "tags": []
   },
   "outputs": [
    {
     "data": {
      "text/plain": [
       "119"
      ]
     },
     "execution_count": 69,
     "metadata": {},
     "output_type": "execute_result"
    }
   ],
   "source": [
    "df_sinistros[df_sinistros['total_plates'] > 1].total_plates.value_counts().sum()"
   ]
  },
  {
   "cell_type": "code",
   "execution_count": 70,
   "id": "1330f7f7-d9d2-4dee-9aca-9c891f74eb74",
   "metadata": {
    "tags": []
   },
   "outputs": [
    {
     "data": {
      "text/plain": [
       "total_plates\n",
       "2    0.815126\n",
       "3    0.168067\n",
       "4    0.016807\n",
       "Name: count, dtype: float64"
      ]
     },
     "execution_count": 70,
     "metadata": {},
     "output_type": "execute_result"
    }
   ],
   "source": [
    "df_sinistros[df_sinistros['total_plates'] > 1].total_plates.value_counts()/df_sinistros[df_sinistros['total_plates'] > 1].total_plates.value_counts().sum()"
   ]
  },
  {
   "cell_type": "code",
   "execution_count": 71,
   "id": "29ea3c28-5f19-4096-b725-627d9eb1e85a",
   "metadata": {
    "tags": []
   },
   "outputs": [
    {
     "name": "stdout",
     "output_type": "stream",
     "text": [
      "53\n"
     ]
    }
   ],
   "source": [
    "df_sinistros['msm_prop_alguma_placa_algum_documento'] = df_sinistros.apply(check_cpfcnpj_equivalence, axis=1)\n",
    "\n",
    "count_cpfcnpj_equivalence = df_sinistros['msm_prop_alguma_placa_algum_documento'].sum()\n",
    "print(count_cpfcnpj_equivalence)"
   ]
  },
  {
   "cell_type": "code",
   "execution_count": 72,
   "id": "0be329a8-9a43-4bdd-9b6c-d45d13bb06f2",
   "metadata": {
    "tags": []
   },
   "outputs": [
    {
     "data": {
      "text/plain": [
       "0.424"
      ]
     },
     "execution_count": 72,
     "metadata": {},
     "output_type": "execute_result"
    }
   ],
   "source": [
    "count_cpfcnpj_equivalence/len(df_sinistros)"
   ]
  },
  {
   "cell_type": "code",
   "execution_count": 73,
   "id": "5455ae01-2d22-4f16-ba37-fac7400c0cae",
   "metadata": {
    "tags": []
   },
   "outputs": [
    {
     "data": {
      "text/plain": [
       "0.4"
      ]
     },
     "execution_count": 73,
     "metadata": {},
     "output_type": "execute_result"
    }
   ],
   "source": [
    "df_sinistros[df_sinistros['total_plates'] > 1].apply(check_cpfcnpj_equivalence, axis=1).sum()/len(df_sinistros)"
   ]
  },
  {
   "cell_type": "markdown",
   "id": "0ff26d97-eca8-478f-a79b-a1f27d34eaa8",
   "metadata": {},
   "source": [
    "### Quantas vezes a mesma pessoa é proprietária de alguma das placas e de todos os documentos\n"
   ]
  },
  {
   "cell_type": "markdown",
   "id": "cfaa8814-db70-45d7-9a7c-7e4e376d0714",
   "metadata": {},
   "source": [
    "Diferença"
   ]
  },
  {
   "cell_type": "code",
   "execution_count": 74,
   "id": "9b9e9dc2-326d-4eb5-aa40-b5a78b8a0497",
   "metadata": {
    "tags": []
   },
   "outputs": [
    {
     "name": "stdout",
     "output_type": "stream",
     "text": [
      "Em 54 ocasiões, a mesma pessoa é proprietária de alguma das placas e de todos os documentos RNTRC.\n"
     ]
    }
   ],
   "source": [
    "df_sinistros['msm_prop_algum_placa_todos_documentos'] = df_sinistros.apply(check_owner_for_all_rntrc, axis=1)\n",
    "total_proprietario_alguma_placa_todos_documentos = df_sinistros['msm_prop_algum_placa_todos_documentos'].sum()\n",
    "total_proprietario_alguma_placa_todos_documentos\n",
    "print(f\"Em {total_proprietario_alguma_placa_todos_documentos} ocasiões, a mesma pessoa é proprietária de alguma das placas e de todos os documentos RNTRC.\")"
   ]
  },
  {
   "cell_type": "markdown",
   "id": "dce5e158-0ea6-49bf-88e8-3880d3c87c76",
   "metadata": {},
   "source": [
    "df_sinistros['mot_prop_algum_placa_todos_documentos'] = total_proprietario_alguma_placa_todos_documentos"
   ]
  },
  {
   "cell_type": "code",
   "execution_count": 75,
   "id": "12beb7d9-d67e-4ee9-820d-70cef0229b02",
   "metadata": {
    "tags": []
   },
   "outputs": [
    {
     "data": {
      "text/plain": [
       "0.432"
      ]
     },
     "execution_count": 75,
     "metadata": {},
     "output_type": "execute_result"
    }
   ],
   "source": [
    "total_proprietario_alguma_placa_todos_documentos/len(df_sinistros)"
   ]
  },
  {
   "cell_type": "markdown",
   "id": "d1dd2727-c229-4a8d-a51c-fec9b9e9980c",
   "metadata": {},
   "source": [
    "### Quantas vezes a mesma pessoa é proprietária de todas as placas e algum documento"
   ]
  },
  {
   "cell_type": "code",
   "execution_count": 76,
   "id": "306d75a5-2911-4629-b599-31b079e8c11c",
   "metadata": {
    "tags": []
   },
   "outputs": [
    {
     "name": "stdout",
     "output_type": "stream",
     "text": [
      "Em 34 ocasiões, a mesma pessoa é proprietária de todas as placas e de algum documento RNTRC.\n"
     ]
    }
   ],
   "source": [
    "def check_owner_for_all_rntrc_v2(row):\n",
    "    vehicle_cols = [col for col in row.index if 'cpfcnpj_vehicle' in col]\n",
    "    rntrc_cols = [col for col in row.index if 'cpfcnpj_rntrc' in col]\n",
    "\n",
    "    cpf_motorista = row['cpf_motorista']\n",
    "    vehicle_values = [row[col] for col in vehicle_cols if pd.notnull(row[col]) and row[col] != cpf_motorista]\n",
    "    rntrc_values = [row[col] for col in rntrc_cols if pd.notnull(row[col]) and row[col] != cpf_motorista]\n",
    "    \n",
    "    if len(set(vehicle_values)) != 1:\n",
    "        return False\n",
    "\n",
    "    if any(any(rntrc_val in vehicle_val for vehicle_val in vehicle_values) for rntrc_val in rntrc_values):\n",
    "        return True\n",
    "\n",
    "    return False\n",
    "\n",
    "df_sinistros['msm_prop_todas_placas_algum_doc'] = df_sinistros.apply(check_owner_for_all_rntrc_v2, axis=1)\n",
    "total_proprietario_todas_placas_alguns_documentos = df_sinistros['msm_prop_todas_placas_algum_doc'].sum()\n",
    "total_proprietario_todas_placas_alguns_documentos\n",
    "print(f\"Em {total_proprietario_todas_placas_alguns_documentos} ocasiões, a mesma pessoa é proprietária de todas as placas e de algum documento RNTRC.\")"
   ]
  },
  {
   "cell_type": "code",
   "execution_count": 77,
   "id": "cbc909f0-973c-4556-b25c-38528fe70cdd",
   "metadata": {
    "tags": []
   },
   "outputs": [
    {
     "data": {
      "text/plain": [
       "0.272"
      ]
     },
     "execution_count": 77,
     "metadata": {},
     "output_type": "execute_result"
    }
   ],
   "source": [
    "total_proprietario_todas_placas_alguns_documentos/len(df_sinistros)"
   ]
  },
  {
   "cell_type": "markdown",
   "id": "84c4a7fb-fc60-49df-a39f-c1f1b0591a63",
   "metadata": {},
   "source": [
    "### Quantas vezes a mesma pessoa é a proprietária de todas as placas e todos os documentos\n"
   ]
  },
  {
   "cell_type": "markdown",
   "id": "43ed7e05-cfa1-418e-947a-cc86b9baa63a",
   "metadata": {},
   "source": [
    "Diferenças"
   ]
  },
  {
   "cell_type": "code",
   "execution_count": 78,
   "id": "41a77563-11f2-4175-8c0c-be6076de3c2b",
   "metadata": {
    "tags": []
   },
   "outputs": [
    {
     "name": "stdout",
     "output_type": "stream",
     "text": [
      "Em 34 ocasiões, a mesma pessoa é proprietária de todas as placas e todos os documentos RNTRC.\n"
     ]
    }
   ],
   "source": [
    "df_sinistros['msm_prop_all'] = df_sinistros.apply(check_single_owner_for_all, axis=1)\n",
    "total_proprietario_todas_placas_todos_documentos = df_sinistros['msm_prop_all'].sum()\n",
    "\n",
    "print(f\"Em {total_proprietario_todas_placas_todos_documentos} ocasiões, a mesma pessoa é proprietária de todas as placas e todos os documentos RNTRC.\")\n"
   ]
  },
  {
   "cell_type": "code",
   "execution_count": 79,
   "id": "12571e02-b485-4c7d-8821-ad4966f8abfa",
   "metadata": {
    "tags": []
   },
   "outputs": [
    {
     "name": "stdout",
     "output_type": "stream",
     "text": [
      "Em 57 ocasiões, considerando apenas casos onde total_plates > 1, a mesma pessoa é proprietária de todas as placas e de todos os documentos RNTRC.\n"
     ]
    }
   ],
   "source": [
    "# apenas para total_plates > 1\n",
    "filtered_data = df_sinistros[df_sinistros['total_plates'] > 1][relevant_columns]\n",
    "\n",
    "plates_all_docs = 0\n",
    "\n",
    "for index, row in filtered_data.iterrows():\n",
    "    plate_owners = set([row['cpfcnpj_vehicle1'], row['cpfcnpj_vehicle2'], \n",
    "                        row['cpfcnpj_vehicle3'], row['cpfcnpj_vehicle4']])\n",
    "    plate_owners = {x for x in plate_owners if pd.notnull(x)}\n",
    "    \n",
    "    rntrc_owners = set([row['cpfcnpj_rntrc1'], row['cpfcnpj_rntrc2'], \n",
    "                        row['cpfcnpj_rntrc3'], row['cpfcnpj_rntrc4']])\n",
    "    rntrc_owners = {x for x in rntrc_owners if pd.notnull(x)}\n",
    "    \n",
    "    if len(plate_owners) == 1 and plate_owners == rntrc_owners:\n",
    "        plates_all_docs += 1\n",
    "\n",
    "print(f\"Em {plates_all_docs} ocasiões, considerando apenas casos onde total_plates > 1, a mesma pessoa é proprietária de todas as placas e de todos os documentos RNTRC.\")"
   ]
  },
  {
   "cell_type": "markdown",
   "id": "651b28c7-d8c5-44fc-9191-65f791ffa211",
   "metadata": {
    "tags": []
   },
   "source": [
    "plates_all_docs/len(df_sinistros)"
   ]
  },
  {
   "cell_type": "markdown",
   "id": "c0946c3b-f1b8-4edf-87f0-3d5eee0febf5",
   "metadata": {},
   "source": [
    "df_sinistros['mot_prop_all'] = count_all_plates_all_docs"
   ]
  },
  {
   "cell_type": "markdown",
   "id": "94c35ea9-00aa-4bf1-ac75-fae0f04e2363",
   "metadata": {},
   "source": [
    "### Histograma de diferença das datas"
   ]
  },
  {
   "cell_type": "code",
   "execution_count": 80,
   "id": "2eef4199-8e23-4b84-94aa-b29abac11944",
   "metadata": {
    "tags": []
   },
   "outputs": [],
   "source": [
    "date_cols = ['data_sinistro', 'date_rntrc1', 'date_rntrc2', 'date_rntrc3', 'date_rntrc4']\n",
    "for col in date_cols:\n",
    "    df_sinistros[col] = pd.to_datetime(df_sinistros[col], format='mixed')"
   ]
  },
  {
   "cell_type": "code",
   "execution_count": 81,
   "id": "ce8630ab-5cb5-48ed-b250-80c36927fa75",
   "metadata": {
    "tags": []
   },
   "outputs": [],
   "source": [
    "df_sinistros['menor_data'] = df_sinistros[['date_rntrc1', 'date_rntrc2', 'date_rntrc3', 'date_rntrc4']].min(axis=1)"
   ]
  },
  {
   "cell_type": "code",
   "execution_count": 82,
   "id": "34d6537b-c6c4-441c-ae03-803018c7b659",
   "metadata": {},
   "outputs": [],
   "source": [
    "df_sinistros['maior_data'] = df_sinistros[['date_rntrc1', 'date_rntrc2', 'date_rntrc3', 'date_rntrc4']].max(axis=1)"
   ]
  },
  {
   "cell_type": "code",
   "execution_count": 83,
   "id": "3daded74-40a1-4aab-9cd8-7e2abd569b66",
   "metadata": {
    "tags": []
   },
   "outputs": [],
   "source": [
    "df_sinistros['diferenca'] = (df_sinistros['data_sinistro'] - df_sinistros['menor_data']).dt.days"
   ]
  },
  {
   "cell_type": "code",
   "execution_count": 84,
   "id": "f9f7b9e4-db47-45fe-9552-3ee8239717b1",
   "metadata": {},
   "outputs": [],
   "source": [
    "df_sinistros['diferenca_maior'] = (df_sinistros['data_sinistro'] - df_sinistros['maior_data']).dt.days"
   ]
  },
  {
   "cell_type": "code",
   "execution_count": 85,
   "id": "7ca0a3b8-87a9-479e-b2ff-eef5eaf9af7c",
   "metadata": {
    "tags": []
   },
   "outputs": [
    {
     "name": "stderr",
     "output_type": "stream",
     "text": [
      "/tmp/ipykernel_19988/4271566918.py:10: UserWarning: Legend does not support handles for str instances.\n",
      "A proxy artist may be used instead.\n",
      "See: https://matplotlib.org/stable/users/explain/axes/legend_guide.html#controlling-the-legend-entries\n",
      "  plt.legend([linha_media, linha_mediana, 'Diferença (anos)'], labels)\n"
     ]
    },
    {
     "data": {
      "image/png": "[encoded data removed]",
      "text/plain": [
       "<Figure size 640x480 with 1 Axes>"
      ]
     },
     "metadata": {},
     "output_type": "display_data"
    }
   ],
   "source": [
    "plt.hist(df_sinistros['diferenca']/360, bins=30, edgecolor='black')\n",
    "\n",
    "media = df_sinistros['diferenca'].mean()/360\n",
    "mediana = df_sinistros['diferenca'].median()/360\n",
    "\n",
    "linha_media = plt.axvline(media, color='red', linestyle='dashed', linewidth=1)\n",
    "linha_mediana = plt.axvline(mediana, color='green', linestyle='dashed', linewidth=1)\n",
    "\n",
    "labels = [f'Média: {media:.2f}', f'Mediana: {mediana:.2f}', 'Diferença (anos)']\n",
    "plt.legend([linha_media, linha_mediana, 'Diferença (anos)'], labels)\n",
    "\n",
    "plt.title('Histograma da Diferença de Anos')\n",
    "plt.xlabel('Diferença (anos)')\n",
    "plt.ylabel('Frequência')\n",
    "plt.grid(True)\n",
    "\n",
    "plt.show()"
   ]
  },
  {
   "cell_type": "code",
   "execution_count": 86,
   "id": "378cc842-3450-4154-9f65-b4b55b5660fc",
   "metadata": {},
   "outputs": [
    {
     "name": "stderr",
     "output_type": "stream",
     "text": [
      "/tmp/ipykernel_19988/3387734348.py:12: UserWarning: Legend does not support handles for str instances.\n",
      "A proxy artist may be used instead.\n",
      "See: https://matplotlib.org/stable/users/explain/axes/legend_guide.html#controlling-the-legend-entries\n",
      "  plt.legend([linha_media, linha_mediana, 'Diferença (anos)'], labels)\n"
     ]
    },
    {
     "data": {
      "image/png": "[encoded data removed]",
      "text/plain": [
       "<Figure size 640x480 with 1 Axes>"
      ]
     },
     "metadata": {},
     "output_type": "display_data"
    }
   ],
   "source": [
    "plt.hist(df_sinistros['diferenca_maior']/360, bins=30, edgecolor='black')\n",
    "\n",
    "media = df_sinistros['diferenca_maior'].mean()/360\n",
    "mediana = df_sinistros['diferenca_maior'].median()/360\n",
    "\n",
    "# Adicionando linhas de média e mediana\n",
    "linha_media = plt.axvline(media, color='red', linestyle='dashed', linewidth=1)\n",
    "linha_mediana = plt.axvline(mediana, color='green', linestyle='dashed', linewidth=1)\n",
    "\n",
    "# Adicionando legendas\n",
    "labels = [f'Média: {media:.2f}', f'Mediana: {mediana:.2f}', 'Diferença (anos)']\n",
    "plt.legend([linha_media, linha_mediana, 'Diferença (anos)'], labels)\n",
    "\n",
    "# Adicionando título e rótulos\n",
    "plt.title('Histograma da Diferença de Anos')\n",
    "plt.xlabel('Diferença (anos)')\n",
    "plt.ylabel('Frequência')\n",
    "plt.grid(True)\n",
    "\n",
    "plt.show()"
   ]
  },
  {
   "cell_type": "code",
   "execution_count": 87,
   "id": "1a9e7e2b-0185-4df8-9662-2d805ef66162",
   "metadata": {
    "tags": []
   },
   "outputs": [
    {
     "data": {
      "text/plain": [
       "0.4"
      ]
     },
     "execution_count": 87,
     "metadata": {},
     "output_type": "execute_result"
    }
   ],
   "source": [
    "len(df_sinistros[df_sinistros['diferenca'] < 360])/len(df_sinistros)"
   ]
  },
  {
   "cell_type": "code",
   "execution_count": 88,
   "id": "f04cedde-5d4d-4fcc-9279-823146a3c157",
   "metadata": {
    "tags": []
   },
   "outputs": [
    {
     "data": {
      "text/plain": [
       "0.2"
      ]
     },
     "execution_count": 88,
     "metadata": {},
     "output_type": "execute_result"
    }
   ],
   "source": [
    "len(df_sinistros[df_sinistros['diferenca'] < 90])/len(df_sinistros)"
   ]
  },
  {
   "cell_type": "code",
   "execution_count": 89,
   "id": "81aff833-3e33-4e77-84e8-5e83d24dd54d",
   "metadata": {},
   "outputs": [
    {
     "data": {
      "text/plain": [
       "0.296"
      ]
     },
     "execution_count": 89,
     "metadata": {},
     "output_type": "execute_result"
    }
   ],
   "source": [
    "len(df_sinistros[df_sinistros['diferenca'] < 180])/len(df_sinistros)"
   ]
  },
  {
   "cell_type": "code",
   "execution_count": 90,
   "id": "51505957-a12d-49c1-b37c-7665a1de2b82",
   "metadata": {
    "tags": []
   },
   "outputs": [
    {
     "data": {
      "text/plain": [
       "0.12"
      ]
     },
     "execution_count": 90,
     "metadata": {},
     "output_type": "execute_result"
    }
   ],
   "source": [
    "len(df_sinistros[(df_sinistros['diferenca'] > 360) & (df_sinistros['diferenca'] < 1080)])/len(df_sinistros)"
   ]
  },
  {
   "cell_type": "code",
   "execution_count": 91,
   "id": "1d62f954-4b2d-47c7-b2a5-eb5c20f9cf00",
   "metadata": {
    "tags": []
   },
   "outputs": [
    {
     "data": {
      "text/plain": [
       "0.48"
      ]
     },
     "execution_count": 91,
     "metadata": {},
     "output_type": "execute_result"
    }
   ],
   "source": [
    "len(df_sinistros[df_sinistros['diferenca'] > 1080])/len(df_sinistros)"
   ]
  },
  {
   "cell_type": "markdown",
   "id": "74190794-6456-478e-8129-fa6990125b4c",
   "metadata": {},
   "source": [
    "### Percentual cpf cnpj geral - tanto veículos quanto rntrc"
   ]
  },
  {
   "cell_type": "code",
   "execution_count": 92,
   "id": "94f2042f-b839-4d65-8526-09d03fc2062f",
   "metadata": {
    "tags": []
   },
   "outputs": [],
   "source": [
    "cpfcnpj_cols = [col for col in df_sinistros.columns if col.startswith('cpfcnpj')]"
   ]
  },
  {
   "cell_type": "code",
   "execution_count": 93,
   "id": "2f53d436-e055-4586-b4d6-3df03209e2e7",
   "metadata": {
    "tags": []
   },
   "outputs": [],
   "source": [
    "cpf_count = 0\n",
    "cnpj_count = 0"
   ]
  },
  {
   "cell_type": "code",
   "execution_count": 94,
   "id": "6954c02b-e7c1-4e43-9aef-c1d03bc9625d",
   "metadata": {
    "tags": []
   },
   "outputs": [],
   "source": [
    "for col in cpfcnpj_cols:\n",
    "    cpf_count += df_sinistros[col].apply(lambda x: len(str(x)) == 11 if pd.notnull(x) else False).sum()\n",
    "    cnpj_count += df_sinistros[col].apply(lambda x: len(str(x)) == 14 if pd.notnull(x) else False).sum()"
   ]
  },
  {
   "cell_type": "code",
   "execution_count": 95,
   "id": "d8351d4e-0ccc-4127-9397-9f26f1675403",
   "metadata": {
    "tags": []
   },
   "outputs": [],
   "source": [
    "total_cpfcnpj = cpf_count + cnpj_count\n",
    "percent_cpf = (cpf_count / total_cpfcnpj) * 100 if total_cpfcnpj > 0 else 0\n",
    "percent_cnpj = (cnpj_count / total_cpfcnpj) * 100 if total_cpfcnpj > 0 else 0"
   ]
  },
  {
   "cell_type": "code",
   "execution_count": 96,
   "id": "832272ea-8c69-48b0-a9d9-0e6192406732",
   "metadata": {
    "tags": []
   },
   "outputs": [
    {
     "name": "stdout",
     "output_type": "stream",
     "text": [
      "Porcentagem de CPFs: 62.63%\n",
      "Porcentagem de CNPJs: 37.37%\n"
     ]
    }
   ],
   "source": [
    "print(f'Porcentagem de CPFs: {percent_cpf:.2f}%')\n",
    "print(f'Porcentagem de CNPJs: {percent_cnpj:.2f}%')"
   ]
  },
  {
   "cell_type": "markdown",
   "id": "d25f4211-770f-4821-8052-4ff9a3f8bb38",
   "metadata": {},
   "source": [
    "### Percentual de cpfs / cnpjs para proprietário de veículos"
   ]
  },
  {
   "cell_type": "code",
   "execution_count": 97,
   "id": "a8430ffe-3b03-4cdf-89ae-9c9b7a2e0ac1",
   "metadata": {
    "tags": []
   },
   "outputs": [],
   "source": [
    "cpfcnpj_vehicle_cols = [col for col in df_sinistros.columns if col.startswith('cpfcnpj_vehicle')]"
   ]
  },
  {
   "cell_type": "code",
   "execution_count": 98,
   "id": "5b352c6e-5fdd-4c44-9f63-b57ecdccd7ac",
   "metadata": {
    "tags": []
   },
   "outputs": [],
   "source": [
    "cpf_vehicle_count = 0\n",
    "cnpj_vehicle_count = 0"
   ]
  },
  {
   "cell_type": "code",
   "execution_count": 99,
   "id": "2b98b284-adf1-47ee-86f6-b07ebe01bea5",
   "metadata": {
    "tags": []
   },
   "outputs": [],
   "source": [
    "for col in cpfcnpj_vehicle_cols:\n",
    "    cpf_vehicle_count += df_sinistros[col].apply(lambda x: len(str(x)) == 11 if pd.notnull(x) else False).sum()\n",
    "    cnpj_vehicle_count += df_sinistros[col].apply(lambda x: len(str(x)) == 14 if pd.notnull(x) else False).sum()"
   ]
  },
  {
   "cell_type": "code",
   "execution_count": 100,
   "id": "2e3ed469-2d3f-4d96-bd20-f89ee4f48e70",
   "metadata": {
    "tags": []
   },
   "outputs": [],
   "source": [
    "total_vehicle_cpfcnpj = cpf_vehicle_count + cnpj_vehicle_count\n",
    "percent_vehicle_cpf = (cpf_vehicle_count / total_vehicle_cpfcnpj) * 100 if total_vehicle_cpfcnpj > 0 else 0\n",
    "percent_vehicle_cnpj = (cnpj_vehicle_count / total_vehicle_cpfcnpj) * 100 if total_vehicle_cpfcnpj > 0 else 0"
   ]
  },
  {
   "cell_type": "code",
   "execution_count": 101,
   "id": "521259a3-a170-4430-ae7d-e6c1f449b31d",
   "metadata": {
    "tags": []
   },
   "outputs": [
    {
     "name": "stdout",
     "output_type": "stream",
     "text": [
      "Porcentagem de CPFs: 69.46%\n",
      "Porcentagem de CNPJs: 30.54%\n"
     ]
    }
   ],
   "source": [
    "print(f'Porcentagem de CPFs: {percent_vehicle_cpf:.2f}%')\n",
    "print(f'Porcentagem de CNPJs: {percent_vehicle_cnpj:.2f}%')"
   ]
  },
  {
   "cell_type": "markdown",
   "id": "c128d6a9-6d89-4a0d-89c0-a184a7ea0aaa",
   "metadata": {},
   "source": [
    "### Percentual de cpfs / cnpjs para proprietário da rntrc"
   ]
  },
  {
   "cell_type": "code",
   "execution_count": 102,
   "id": "9e049d14-1660-400c-a9f6-9d5335cc7e45",
   "metadata": {
    "tags": []
   },
   "outputs": [],
   "source": [
    "cpfcnpj_rntrc_cols = [col for col in df_sinistros.columns if col.startswith('cpfcnpj_rntrc')]"
   ]
  },
  {
   "cell_type": "code",
   "execution_count": 103,
   "id": "86c3e687-dc87-4c20-9bf8-def5606d243e",
   "metadata": {
    "tags": []
   },
   "outputs": [],
   "source": [
    "cpf_rntrc_count = 0\n",
    "cnpj_rntrc_count = 0"
   ]
  },
  {
   "cell_type": "code",
   "execution_count": 104,
   "id": "39908b66-5308-46fe-80b5-70cb908a4980",
   "metadata": {
    "tags": []
   },
   "outputs": [],
   "source": [
    "for col in cpfcnpj_rntrc_cols:\n",
    "    cpf_rntrc_count += df_sinistros[col].apply(lambda x: len(str(x)) == 11 if pd.notnull(x) else False).sum()\n",
    "    cnpj_rntrc_count += df_sinistros[col].apply(lambda x: len(str(x)) == 14 if pd.notnull(x) else False).sum()"
   ]
  },
  {
   "cell_type": "code",
   "execution_count": 105,
   "id": "e2411f16-9208-4325-84ff-3151283f5599",
   "metadata": {
    "tags": []
   },
   "outputs": [],
   "source": [
    "total_rntrc_cpfcnpj = cpf_rntrc_count + cnpj_rntrc_count\n",
    "percent_rntrc_cpf = (cpf_rntrc_count / total_rntrc_cpfcnpj) * 100 if total_rntrc_cpfcnpj > 0 else 0\n",
    "percent_rntrc_cnpj = (cnpj_rntrc_count / total_rntrc_cpfcnpj) * 100 if total_rntrc_cpfcnpj > 0 else 0"
   ]
  },
  {
   "cell_type": "code",
   "execution_count": 106,
   "id": "ff8fbed9-1632-491c-83d0-5c6bfe8ad199",
   "metadata": {
    "tags": []
   },
   "outputs": [
    {
     "name": "stdout",
     "output_type": "stream",
     "text": [
      "Porcentagem de CPFs: 55.83%\n",
      "Porcentagem de CNPJs: 44.17%\n"
     ]
    }
   ],
   "source": [
    "print(f'Porcentagem de CPFs: {percent_rntrc_cpf:.2f}%')\n",
    "print(f'Porcentagem de CNPJs: {percent_rntrc_cnpj:.2f}%')"
   ]
  },
  {
   "cell_type": "code",
   "execution_count": null,
   "id": "72c80d3d-d067-4367-91ad-21c4ebfe1865",
   "metadata": {},
   "outputs": [],
   "source": []
  }
 ],
 "metadata": {
  "kernelspec": {
   "display_name": "conda_python3",
   "language": "python",
   "name": "conda_python3"
  },
  "language_info": {
   "codemirror_mode": {
    "name": "ipython",
    "version": 3
   },
   "file_extension": ".py",
   "mimetype": "text/x-python",
   "name": "python",
   "nbconvert_exporter": "python",
   "pygments_lexer": "ipython3",
   "version": "3.10.13"
  }
 },
 "nbformat": 4,
 "nbformat_minor": 5
}
